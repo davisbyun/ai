{
  "nbformat": 4,
  "nbformat_minor": 0,
  "metadata": {
    "colab": {
      "provenance": [],
      "authorship_tag": "ABX9TyO1zt7KFaAGpDF9bKiWmIvj",
      "include_colab_link": true
    },
    "kernelspec": {
      "name": "python3",
      "display_name": "Python 3"
    },
    "language_info": {
      "name": "python"
    }
  },
  "cells": [
    {
      "cell_type": "markdown",
      "metadata": {
        "id": "view-in-github",
        "colab_type": "text"
      },
      "source": [
        "<a href=\"https://colab.research.google.com/github/davisbyun/ai/blob/%2Bpython/7%ED%8C%90%EB%8B%A4%EC%8A%A4%EC%98%88%EC%A0%9C1.ipynb\" target=\"_parent\"><img src=\"https://colab.research.google.com/assets/colab-badge.svg\" alt=\"Open In Colab\"/></a>"
      ]
    },
    {
      "cell_type": "code",
      "execution_count": 2,
      "metadata": {
        "id": "n-DXFDcxn-30"
      },
      "outputs": [],
      "source": [
        "import numpy as np\n",
        "import pandas as pd"
      ]
    },
    {
      "cell_type": "markdown",
      "source": [
        " - 판다스는 파이썬의 수 많은 라이브러리 가운데 레이블 형태의 자료를 수집하고 정리하는 데 매우 유용한 도구입니다. 이러한 판다스의 두 가지 대표적인 자료구조가 바로 시리즈(Series)와 데이터프레임(Dataframe)입니다.먼저 시리즈에 대해 알아보도록 합니다.\n",
        " - Pandas의 Series는 1차원 배열로서 다음의 특징을 가집니다.데이터를 담는 차원 배열 구조를 가집니다.인덱스(index)를 사용 가능합니다.데이터 타입을 가집니다. (dtype)"
      ],
      "metadata": {
        "id": "dpRrDuU8pJlw"
      }
    },
    {
      "cell_type": "code",
      "source": [
        "# Series의 생성(1) - numpy 이용\n",
        "# 1.numpy array로 생성한 경우\n",
        "a1 = np.arange(100, 105)\n",
        "print(a1)\n",
        "pd_a1 = pd.Series(a1)\n",
        "print(pd_a1)\n",
        "# 2.dtype 지정하기\n",
        "pd_a2=pd.Series(a1, dtype='int32')\n",
        "print(pd_a2)\n",
        "pd_a3=pd.Series(a1, dtype='float32')\n",
        "print(pd_a3)"
      ],
      "metadata": {
        "colab": {
          "base_uri": "https://localhost:8080/"
        },
        "id": "1Ne9v_Qdpg9z",
        "outputId": "3bcb2cd4-1324-4ed6-ab61-893ba55c192c"
      },
      "execution_count": 9,
      "outputs": [
        {
          "output_type": "stream",
          "name": "stdout",
          "text": [
            "[100 101 102 103 104]\n",
            "0    100\n",
            "1    101\n",
            "2    102\n",
            "3    103\n",
            "4    104\n",
            "dtype: int64\n",
            "0    100\n",
            "1    101\n",
            "2    102\n",
            "3    103\n",
            "4    104\n",
            "dtype: int32\n",
            "0    100.0\n",
            "1    101.0\n",
            "2    102.0\n",
            "3    103.0\n",
            "4    104.0\n",
            "dtype: float32\n"
          ]
        }
      ]
    },
    {
      "cell_type": "code",
      "source": [
        "# Series의 생성(2) - list 이용\n",
        "data=[91,2.5,'문자', 4, 5.16 ] #리스트 안에 다양한 자료형을 넣어줌\n",
        "pd_s2=pd.Series(data)\n",
        "print(pd_s2)\n",
        "print(pd_s2.dtype) #list안의 자료가 다양하므로 모든 자료형을 표현할 수 있는 object 형이 나온다.\n",
        "print(pd_s2.index) #index의 범위를 알 수 있다. 인텍스를 붙이지 않으면 자동으로 0~ 부터 만들어진다.\n",
        "print(pd_s2[[2,]]) #문자\n",
        "print(pd_s2[[1,2]]) #2.5,문자"
      ],
      "metadata": {
        "colab": {
          "base_uri": "https://localhost:8080/"
        },
        "id": "YKGYdMW7refb",
        "outputId": "cadeabce-cc74-49e2-fa4b-1b1c5178d740"
      },
      "execution_count": 17,
      "outputs": [
        {
          "output_type": "stream",
          "name": "stdout",
          "text": [
            "0      91\n",
            "1     2.5\n",
            "2      문자\n",
            "3       4\n",
            "4    5.16\n",
            "dtype: object\n",
            "object\n",
            "RangeIndex(start=0, stop=5, step=1)\n",
            "2    문자\n",
            "dtype: object\n",
            "1    2.5\n",
            "2     문자\n",
            "dtype: object\n"
          ]
        }
      ]
    },
    {
      "cell_type": "code",
      "source": [
        "pd.__version__ #판다스 버전확인"
      ],
      "metadata": {
        "colab": {
          "base_uri": "https://localhost:8080/",
          "height": 35
        },
        "id": "0ewdJOUQ7ll8",
        "outputId": "1195eb9a-3658-4010-f3ec-f235b0281783"
      },
      "execution_count": 22,
      "outputs": [
        {
          "output_type": "execute_result",
          "data": {
            "text/plain": [
              "'1.5.3'"
            ],
            "application/vnd.google.colaboratory.intrinsic+json": {
              "type": "string"
            }
          },
          "metadata": {},
          "execution_count": 22
        }
      ]
    },
    {
      "cell_type": "code",
      "source": [
        "#인덱싱\n",
        "pd_s2[[1,3]] #pd.s2[인덱스1, 인덱스2]\n",
        "a= pd_s2[np.arange(0, 3, 2)]  # a= pd_s2[np.arange(시작인덱스0,끝인덱스 3, 증가값2)]\n",
        "print(a)"
      ],
      "metadata": {
        "colab": {
          "base_uri": "https://localhost:8080/"
        },
        "id": "jYzhdiJf821k",
        "outputId": "64ed8ea8-364d-4b4b-9812-05f7f6701821"
      },
      "execution_count": 28,
      "outputs": [
        {
          "output_type": "stream",
          "name": "stdout",
          "text": [
            "0    91\n",
            "2    문자\n",
            "dtype: object\n"
          ]
        }
      ]
    },
    {
      "cell_type": "code",
      "source": [
        "# Series의 생성(3) - np.random.randint 이용\n",
        "np.random.seed(0)\n",
        "a2 = pd.Series(np.random.randint(100, 200, size=(10, )))  #Series 속에 numpy를 넣음\n",
        "print(a2)\n",
        "print(a2>150) #True, False로 출력\n",
        "print( a2[ a2>150  ] )"
      ],
      "metadata": {
        "colab": {
          "base_uri": "https://localhost:8080/"
        },
        "id": "bOH--iBp-bX7",
        "outputId": "bee92916-f78b-49d2-edda-83ce637634f2"
      },
      "execution_count": 36,
      "outputs": [
        {
          "output_type": "stream",
          "name": "stdout",
          "text": [
            "0    144\n",
            "1    147\n",
            "2    164\n",
            "3    167\n",
            "4    167\n",
            "5    109\n",
            "6    183\n",
            "7    121\n",
            "8    136\n",
            "9    187\n",
            "dtype: int64\n",
            "0    False\n",
            "1    False\n",
            "2     True\n",
            "3     True\n",
            "4     True\n",
            "5    False\n",
            "6     True\n",
            "7    False\n",
            "8    False\n",
            "9     True\n",
            "dtype: bool\n",
            "2    164\n",
            "3    167\n",
            "4    167\n",
            "6    183\n",
            "9    187\n",
            "dtype: int64\n"
          ]
        }
      ]
    },
    {
      "cell_type": "code",
      "source": [
        "# Series의 생성(4) -\n",
        "a4 = pd.Series(  [ '마케팅', '경영', '개발', '기획','인사' ] )\n",
        "print(a4)"
      ],
      "metadata": {
        "colab": {
          "base_uri": "https://localhost:8080/"
        },
        "id": "rUwcy81hAtgy",
        "outputId": "350e42bd-3fa5-496d-bec3-03ad8d4dd1de"
      },
      "execution_count": 39,
      "outputs": [
        {
          "output_type": "stream",
          "name": "stdout",
          "text": [
            "0    마케팅\n",
            "1     경영\n",
            "2     개발\n",
            "3     기획\n",
            "4     인사\n",
            "dtype: object\n"
          ]
        }
      ]
    },
    {
      "cell_type": "code",
      "source": [
        "# Series의 생성(4)\n",
        "a4 = pd.Series(  [ '마케팅', '경영', '개발', '기획','인사' ], index=[ 'a','b','c','d','e'  ]   )   #index명을 지정함\n",
        "print(a4) #index + values\n",
        "print(a4.index) #index\n",
        "print(a4.values) #values\n",
        "print(a4['a'])\n",
        "print(a4[ [ 'b'  , 'e' ] ])\n",
        "#dtype\n",
        "print('데이터타입', a4.dtype)\n",
        "#ndim\n",
        "print('데이터차원', a4.ndim)\n",
        "print('데이터모양', a4.shape)"
      ],
      "metadata": {
        "colab": {
          "base_uri": "https://localhost:8080/"
        },
        "id": "SRzCqy-kAA9x",
        "outputId": "f05887bc-6146-451a-cc7d-60cad0bbf8bd"
      },
      "execution_count": 50,
      "outputs": [
        {
          "output_type": "stream",
          "name": "stdout",
          "text": [
            "a    마케팅\n",
            "b     경영\n",
            "c     개발\n",
            "d     기획\n",
            "e     인사\n",
            "dtype: object\n",
            "Index(['a', 'b', 'c', 'd', 'e'], dtype='object')\n",
            "['마케팅' '경영' '개발' '기획' '인사']\n",
            "마케팅\n",
            "b    경영\n",
            "e    인사\n",
            "dtype: object\n",
            "데이터타입 object\n",
            "데이터차원 1\n",
            "데이터모양 (5,)\n"
          ]
        }
      ]
    },
    {
      "cell_type": "code",
      "source": [
        "#NaN\n",
        "a5=pd.Series( [ '선화','강호', np.nan, '소정','우영'  ] )\n",
        "print(a5)\n",
        "#결측값 찾기 isnull(), isna()\n",
        "#a5.isnull()\n",
        "a5.isna()\n",
        "a5[a5.isna()]"
      ],
      "metadata": {
        "colab": {
          "base_uri": "https://localhost:8080/"
        },
        "id": "je5qXVnxC3iJ",
        "outputId": "7e7bc104-60c4-4ba9-f5c7-05d7c26d9b78"
      },
      "execution_count": 57,
      "outputs": [
        {
          "output_type": "stream",
          "name": "stdout",
          "text": [
            "0     선화\n",
            "1     강호\n",
            "2    NaN\n",
            "3     소정\n",
            "4     우영\n",
            "dtype: object\n"
          ]
        },
        {
          "output_type": "execute_result",
          "data": {
            "text/plain": [
              "2    NaN\n",
              "dtype: object"
            ]
          },
          "metadata": {},
          "execution_count": 57
        }
      ]
    },
    {
      "cell_type": "code",
      "source": [
        "#결측값이 아닌 것 찾기 notnull() , notna()\n",
        "\n",
        "#a5[a5.notnull()]\n",
        "a5[a5.notna()]"
      ],
      "metadata": {
        "colab": {
          "base_uri": "https://localhost:8080/"
        },
        "id": "gN-dhAhiD9qL",
        "outputId": "7d5c214e-de6c-45b1-81b2-51de22196588"
      },
      "execution_count": 61,
      "outputs": [
        {
          "output_type": "execute_result",
          "data": {
            "text/plain": [
              "0    선화\n",
              "1    강호\n",
              "3    소정\n",
              "4    우영\n",
              "dtype: object"
            ]
          },
          "metadata": {},
          "execution_count": 61
        }
      ]
    },
    {
      "cell_type": "code",
      "source": [
        "#슬라이싱\n",
        "a6=pd.Series(np.arange(100,150,10))\n",
        "a6[1:3]\n",
        "#인텍스 변형\n",
        "a6.index=['a','b','c','d','e']\n",
        "a6['a':'d']"
      ],
      "metadata": {
        "colab": {
          "base_uri": "https://localhost:8080/"
        },
        "id": "OfMgABsdEdW5",
        "outputId": "13b5b9cb-3ec8-40c9-e39d-030f7cc17bbd"
      },
      "execution_count": 68,
      "outputs": [
        {
          "output_type": "execute_result",
          "data": {
            "text/plain": [
              "a    100\n",
              "b    110\n",
              "c    120\n",
              "d    130\n",
              "dtype: int64"
            ]
          },
          "metadata": {},
          "execution_count": 68
        }
      ]
    },
    {
      "cell_type": "code",
      "source": [
        "a6=pd.Series(np.arange(100,150,10))\n",
        "a6\n",
        "#인텍스 변형\n",
        "index_list = list('abcd')\n",
        "index_list\n",
        "print( a6[index_list] , 'aaa' )"
      ],
      "metadata": {
        "id": "IoMs2h7cJW2i"
      },
      "execution_count": null,
      "outputs": []
    },
    {
      "cell_type": "markdown",
      "source": [
        "#시리즈문제풀이"
      ],
      "metadata": {
        "id": "Gekb1629KWxO"
      }
    },
    {
      "cell_type": "code",
      "source": [
        "#다음의 Series를 생성하세요. dtype은 float32가 되도록 생성하세요\n",
        "#[출력]\n",
        "  # 0 3.0\n",
        "  # 1 5.0\n",
        "  # 2 7.0\n",
        "  # 3 9.0\n",
        "  # 4 11.0\n",
        "  # dtype: float32\n",
        "s1=pd.Series(np.arange(3,12,2), dtype='float32' )\n",
        "print(s1)"
      ],
      "metadata": {
        "colab": {
          "base_uri": "https://localhost:8080/"
        },
        "id": "VXnWyiwaKZvB",
        "outputId": "8c9c6b8b-4104-4d90-9293-ad3b34f1d1f4"
      },
      "execution_count": 78,
      "outputs": [
        {
          "output_type": "stream",
          "name": "stdout",
          "text": [
            "0     3.0\n",
            "1     5.0\n",
            "2     7.0\n",
            "3     9.0\n",
            "4    11.0\n",
            "dtype: float32\n"
          ]
        }
      ]
    },
    {
      "cell_type": "code",
      "source": [
        "#[출력]\n",
        "#0 가\n",
        "#1 나\n",
        "#2 다\n",
        "#3 라\n",
        "#4 마\n",
        "#dtype: object\n",
        "\n",
        "#data=['가' ,'나','다','라','마']\n",
        "#s2=pd.Series(data)\n",
        "#print(s2)\n",
        "\n",
        "s2=pd.Series( list('가나다라마'))\n",
        "s2"
      ],
      "metadata": {
        "colab": {
          "base_uri": "https://localhost:8080/"
        },
        "id": "3vYnk5ySL2am",
        "outputId": "7994622e-dbe9-4414-8eb0-a010ae2ab9cb"
      },
      "execution_count": 83,
      "outputs": [
        {
          "output_type": "execute_result",
          "data": {
            "text/plain": [
              "0    가\n",
              "1    나\n",
              "2    다\n",
              "3    라\n",
              "4    마\n",
              "dtype: object"
            ]
          },
          "metadata": {},
          "execution_count": 83
        }
      ]
    },
    {
      "cell_type": "code",
      "source": [
        "# 다음의 Series를 생성하고 sample 변수에 대입하고 출력하세요\n",
        "# # 코드를 입력해 주세요\n",
        "# [출력]\n",
        "# 가 10\n",
        "# 나 20\n",
        "# 다 30\n",
        "# 라 40\n",
        "# 마 50\n",
        "# dtype: int64\n",
        "\n",
        "s3=pd.Series(np.arange(10,55,10), index=list('가나다라마'), dtype='int64')\n",
        "s3"
      ],
      "metadata": {
        "colab": {
          "base_uri": "https://localhost:8080/"
        },
        "id": "Q6SWobw0M1XV",
        "outputId": "f58771ab-7aed-40d3-92d4-722e5c50e98f"
      },
      "execution_count": 84,
      "outputs": [
        {
          "output_type": "execute_result",
          "data": {
            "text/plain": [
              "가    10\n",
              "나    20\n",
              "다    30\n",
              "라    40\n",
              "마    50\n",
              "dtype: int64"
            ]
          },
          "metadata": {},
          "execution_count": 84
        }
      ]
    },
    {
      "cell_type": "code",
      "source": [
        "#4\n",
        "print( s3 [   [  '나','라'  ]   ] )"
      ],
      "metadata": {
        "colab": {
          "base_uri": "https://localhost:8080/"
        },
        "id": "3lEPn1ydO5cW",
        "outputId": "91e30d41-a0d8-4d85-e196-878157b9a908"
      },
      "execution_count": 85,
      "outputs": [
        {
          "output_type": "stream",
          "name": "stdout",
          "text": [
            "나    20\n",
            "라    40\n",
            "dtype: int64\n"
          ]
        }
      ]
    },
    {
      "cell_type": "code",
      "source": [
        "# np.random.seed(20) sample2 = pd.Series(np.random.randint(100, 200, size=(15,))) sample2\n",
        "# sample2 중 160 이하인 데이터만 필터하세요\n",
        "# # 코드를 입력해 주세요\n",
        "\n",
        "# [출력]\n",
        "# 2 115\n",
        "# 4 128\n",
        "# 6 109\n",
        "# 7 120\n",
        "# 9 122\n",
        "# 11 134\n",
        "# 13 140\n",
        "# dtype: int64\n",
        "\n",
        "np.random.seed(20)\n",
        "s5 = pd.Series(np.random.randint(100, 200, size=(15,)))\n",
        "s5[s5<=160]\n",
        "\n",
        " #6\n",
        "s5[ (s5>=130) & (s5<=170) ]\n"
      ],
      "metadata": {
        "colab": {
          "base_uri": "https://localhost:8080/"
        },
        "id": "dx373OUHPHFo",
        "outputId": "70c2c313-d18b-4429-c359-acb6d4d8bd5b"
      },
      "execution_count": 90,
      "outputs": [
        {
          "output_type": "execute_result",
          "data": {
            "text/plain": [
              "11    134\n",
              "13    140\n",
              "dtype: int64"
            ]
          },
          "metadata": {},
          "execution_count": 90
        }
      ]
    },
    {
      "cell_type": "code",
      "source": [
        "# 다음과 같은 Series를 생성해 주세요\n",
        "# # 코드를 입력해 주세요\n",
        "\n",
        "# [출력]\n",
        "# 가 apple\n",
        "# 나 NaN\n",
        "# 다 banana\n",
        "# 라 kiwi\n",
        "# 마 gubong\n",
        "# dtype: object\n",
        "\n",
        "pd.Series( ( ['apple', np.nan, 'bannana','kiwi','gubong'] ), index=list('가나다라마') )"
      ],
      "metadata": {
        "colab": {
          "base_uri": "https://localhost:8080/"
        },
        "id": "rV5ZPwWOQdBm",
        "outputId": "1ae2691d-98c2-426a-93e3-14822a7075bc"
      },
      "execution_count": 91,
      "outputs": [
        {
          "output_type": "execute_result",
          "data": {
            "text/plain": [
              "가      apple\n",
              "나        NaN\n",
              "다    bannana\n",
              "라       kiwi\n",
              "마     gubong\n",
              "dtype: object"
            ]
          },
          "metadata": {},
          "execution_count": 91
        }
      ]
    },
    {
      "cell_type": "code",
      "source": [
        "#8\n",
        "s8 = pd.Series(['IT서비스', np.nan, '반도체', np.nan, '바이오', '자율주행'])\n",
        "s8[ s8.isna() ]\n",
        "\n",
        "#9\n",
        "s8[s8.notna()]"
      ],
      "metadata": {
        "colab": {
          "base_uri": "https://localhost:8080/"
        },
        "id": "NQDAV6RDRhbV",
        "outputId": "9d329c58-8ead-45b9-c8aa-6be3bf93b83e"
      },
      "execution_count": 95,
      "outputs": [
        {
          "output_type": "execute_result",
          "data": {
            "text/plain": [
              "0    IT서비스\n",
              "2      반도체\n",
              "4      바이오\n",
              "5     자율주행\n",
              "dtype: object"
            ]
          },
          "metadata": {},
          "execution_count": 95
        }
      ]
    },
    {
      "cell_type": "code",
      "source": [
        "#10\n",
        "np.random.seed(0)\n",
        "s9 = pd.Series(np.random.randint(100, 200, size=(10,)))\n",
        "s9\n",
        "s9[2:7]"
      ],
      "metadata": {
        "colab": {
          "base_uri": "https://localhost:8080/"
        },
        "id": "QtEvR5TgSGBw",
        "outputId": "04605ba8-209d-414c-ec59-96cba9ee66f6"
      },
      "execution_count": 97,
      "outputs": [
        {
          "output_type": "execute_result",
          "data": {
            "text/plain": [
              "2    164\n",
              "3    167\n",
              "4    167\n",
              "5    109\n",
              "6    183\n",
              "dtype: int64"
            ]
          },
          "metadata": {},
          "execution_count": 97
        }
      ]
    },
    {
      "cell_type": "code",
      "source": [
        "s10 = pd.Series(np.random.randint(100, 200, size=(10,)), index=list('가나다라마바사아자차') )\n",
        "s10\n",
        "s10['바':'차']"
      ],
      "metadata": {
        "colab": {
          "base_uri": "https://localhost:8080/"
        },
        "id": "btrr08cDSg3L",
        "outputId": "eeff20a5-9822-48be-9402-59a47f5849d4"
      },
      "execution_count": 104,
      "outputs": [
        {
          "output_type": "execute_result",
          "data": {
            "text/plain": [
              "바    131\n",
              "사    101\n",
              "아    165\n",
              "자    141\n",
              "차    157\n",
              "dtype: int64"
            ]
          },
          "metadata": {},
          "execution_count": 104
        }
      ]
    },
    {
      "cell_type": "code",
      "source": [
        "s10['가':'다']"
      ],
      "metadata": {
        "colab": {
          "base_uri": "https://localhost:8080/"
        },
        "id": "vJjVjKsGTO2D",
        "outputId": "c1218e05-e1f2-4a1f-dcd1-f8fcc869066a"
      },
      "execution_count": 105,
      "outputs": [
        {
          "output_type": "execute_result",
          "data": {
            "text/plain": [
              "가    117\n",
              "나    179\n",
              "다    104\n",
              "dtype: int64"
            ]
          },
          "metadata": {},
          "execution_count": 105
        }
      ]
    },
    {
      "cell_type": "code",
      "source": [
        "s10['나':'바']"
      ],
      "metadata": {
        "colab": {
          "base_uri": "https://localhost:8080/"
        },
        "id": "3re--TZ1TRHj",
        "outputId": "928ac2bf-4525-44f1-8dcf-fb7f03da335f"
      },
      "execution_count": 106,
      "outputs": [
        {
          "output_type": "execute_result",
          "data": {
            "text/plain": [
              "나    179\n",
              "다    104\n",
              "라    142\n",
              "마    158\n",
              "바    131\n",
              "dtype: int64"
            ]
          },
          "metadata": {},
          "execution_count": 106
        }
      ]
    }
  ]
}