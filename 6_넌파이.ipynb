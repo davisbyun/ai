{
  "nbformat": 4,
  "nbformat_minor": 0,
  "metadata": {
    "colab": {
      "provenance": [],
      "toc_visible": true,
      "authorship_tag": "ABX9TyOJOh8cAYRuZzuPQpUuVU5v",
      "include_colab_link": true
    },
    "kernelspec": {
      "name": "python3",
      "display_name": "Python 3"
    },
    "language_info": {
      "name": "python"
    }
  },
  "cells": [
    {
      "cell_type": "markdown",
      "metadata": {
        "id": "view-in-github",
        "colab_type": "text"
      },
      "source": [
        "<a href=\"https://colab.research.google.com/github/davisbyun/ai/blob/main/6_%EB%84%8C%ED%8C%8C%EC%9D%B4.ipynb\" target=\"_parent\"><img src=\"https://colab.research.google.com/assets/colab-badge.svg\" alt=\"Open In Colab\"/></a>"
      ]
    },
    {
      "cell_type": "code",
      "execution_count": 1,
      "metadata": {
        "colab": {
          "base_uri": "https://localhost:8080/"
        },
        "id": "EiH0yhGz0XO7",
        "outputId": "a09146c3-a0be-40c7-c406-9d62cd66e428"
      },
      "outputs": [
        {
          "output_type": "stream",
          "name": "stdout",
          "text": [
            "Requirement already satisfied: numpy in /usr/local/lib/python3.10/dist-packages (1.25.2)\n"
          ]
        }
      ],
      "source": [
        "!pip install numpy #넌파이설치"
      ]
    },
    {
      "cell_type": "code",
      "source": [
        "import numpy as np #넌파이 import"
      ],
      "metadata": {
        "id": "UJzYbIFe2rhl"
      },
      "execution_count": 18,
      "outputs": []
    },
    {
      "cell_type": "code",
      "source": [
        "a = np.array(0) #1개 값 스칼라\n",
        "print(a)\n",
        "print(a.ndim)"
      ],
      "metadata": {
        "colab": {
          "base_uri": "https://localhost:8080/"
        },
        "id": "IxdBxu_V-cxl",
        "outputId": "00bbadd2-cdd1-4564-d38f-cefb58c68fb6"
      },
      "execution_count": 21,
      "outputs": [
        {
          "output_type": "stream",
          "name": "stdout",
          "text": [
            "0\n",
            "0\n"
          ]
        }
      ]
    },
    {
      "cell_type": "code",
      "source": [
        "a2 = np.array([1,2,3,4]) #벡터\n",
        "print(a2)\n",
        "type(a2)\n",
        "print(a2.ndim)"
      ],
      "metadata": {
        "colab": {
          "base_uri": "https://localhost:8080/"
        },
        "id": "gsQRJv9Z-TO_",
        "outputId": "7cba7e5e-93fa-4efc-ef90-14a201c35ca1"
      },
      "execution_count": 22,
      "outputs": [
        {
          "output_type": "stream",
          "name": "stdout",
          "text": [
            "[1 2 3 4]\n",
            "1\n"
          ]
        }
      ]
    },
    {
      "cell_type": "code",
      "source": [
        "a3 = np.array( [ [1,2,3],[4,5,6],[7,8,9] ] ) #3X3 행렬\n",
        "print(a3)\n",
        "type(a3)\n",
        "print(a3.ndim)\n",
        "print(a3.shape)"
      ],
      "metadata": {
        "colab": {
          "base_uri": "https://localhost:8080/"
        },
        "id": "NhcByOm0-PLX",
        "outputId": "060c3c4c-fb40-4c7c-d50e-d2b72e0a884a"
      },
      "execution_count": 27,
      "outputs": [
        {
          "output_type": "stream",
          "name": "stdout",
          "text": [
            "[[1 2 3]\n",
            " [4 5 6]\n",
            " [7 8 9]]\n",
            "2\n",
            "(3, 3)\n"
          ]
        }
      ]
    },
    {
      "cell_type": "code",
      "source": [
        "a4 = np.array (  [  [ [1,2],[3,4],[5,6]   ], [ [7,8],[9,10],[11,12]  ]  ]  ) #2면 3행 2열 텐서\n",
        "print(a4)\n",
        "type(a4)\n",
        "print(a4.ndim)\n",
        "print(a4.shape)"
      ],
      "metadata": {
        "colab": {
          "base_uri": "https://localhost:8080/"
        },
        "id": "fUinmvWh-K7V",
        "outputId": "d56b2292-229d-450e-8351-9ddf53cf46e3"
      },
      "execution_count": 25,
      "outputs": [
        {
          "output_type": "stream",
          "name": "stdout",
          "text": [
            "[[[ 1  2]\n",
            "  [ 3  4]\n",
            "  [ 5  6]]\n",
            "\n",
            " [[ 7  8]\n",
            "  [ 9 10]\n",
            "  [11 12]]]\n",
            "3\n",
            "(2, 3, 2)\n"
          ]
        }
      ]
    },
    {
      "cell_type": "code",
      "source": [
        "a5 = np.array (  [  [ [1,2],[3,4] ], [ [5,6],[7,8] ], [ [9,10],[11,12] ]  ]  ) #3면 2행 2열 텐서\n",
        "print(a5)\n",
        "type(a5)\n",
        "print(a5.shape)"
      ],
      "metadata": {
        "colab": {
          "base_uri": "https://localhost:8080/"
        },
        "id": "ggiD3FNk-Eiu",
        "outputId": "4a4499ba-5938-4b50-b0a0-9be225f81d5f"
      },
      "execution_count": 26,
      "outputs": [
        {
          "output_type": "stream",
          "name": "stdout",
          "text": [
            "[[[ 1  2]\n",
            "  [ 3  4]]\n",
            "\n",
            " [[ 5  6]\n",
            "  [ 7  8]]\n",
            "\n",
            " [[ 9 10]\n",
            "  [11 12]]]\n",
            "(3, 2, 2)\n"
          ]
        }
      ]
    },
    {
      "cell_type": "code",
      "source": [
        "#reshaping\n",
        "b=np.arange(12) #1차원 벡터 생성\n",
        "print(b)\n",
        "print(b.size,'~~~')"
      ],
      "metadata": {
        "colab": {
          "base_uri": "https://localhost:8080/"
        },
        "id": "M4QZrWKSAbYN",
        "outputId": "b48caec1-a60e-4433-c45f-4ebc7f508906"
      },
      "execution_count": 43,
      "outputs": [
        {
          "output_type": "stream",
          "name": "stdout",
          "text": [
            "[ 0  1  2  3  4  5  6  7  8  9 10 11]\n",
            "12 ~~~\n"
          ]
        }
      ]
    },
    {
      "cell_type": "code",
      "source": [],
      "metadata": {
        "id": "MNL2r9GUCu28"
      },
      "execution_count": null,
      "outputs": []
    },
    {
      "cell_type": "code",
      "source": [
        "b.shape\n",
        "b.shape = 2,-1\n",
        "print(b)\n",
        "b.shape"
      ],
      "metadata": {
        "colab": {
          "base_uri": "https://localhost:8080/"
        },
        "id": "DMH1HLILBXEU",
        "outputId": "521722ba-0378-4259-e157-955510207e6f"
      },
      "execution_count": 32,
      "outputs": [
        {
          "output_type": "stream",
          "name": "stdout",
          "text": [
            "[[ 0  1  2  3  4  5]\n",
            " [ 6  7  8  9 10 11]]\n"
          ]
        },
        {
          "output_type": "execute_result",
          "data": {
            "text/plain": [
              "(2, 6)"
            ]
          },
          "metadata": {},
          "execution_count": 32
        }
      ]
    },
    {
      "cell_type": "code",
      "source": [
        "b.shape = 3, -1\n",
        "print(b)\n",
        "b.shape"
      ],
      "metadata": {
        "colab": {
          "base_uri": "https://localhost:8080/"
        },
        "id": "V0UZe3biBbXM",
        "outputId": "713be2bc-484d-4d9a-8bb8-dbc722dc6226"
      },
      "execution_count": 34,
      "outputs": [
        {
          "output_type": "stream",
          "name": "stdout",
          "text": [
            "[[ 0  1  2  3]\n",
            " [ 4  5  6  7]\n",
            " [ 8  9 10 11]]\n"
          ]
        },
        {
          "output_type": "execute_result",
          "data": {
            "text/plain": [
              "(3, 4)"
            ]
          },
          "metadata": {},
          "execution_count": 34
        }
      ]
    },
    {
      "cell_type": "code",
      "source": [
        "b.shape = -1, 1\n",
        "print(b)\n",
        "b.shape"
      ],
      "metadata": {
        "colab": {
          "base_uri": "https://localhost:8080/"
        },
        "id": "36U8iih8BrrN",
        "outputId": "74fffd2c-5972-4f16-8a72-3fd636eca2b8"
      },
      "execution_count": 36,
      "outputs": [
        {
          "output_type": "stream",
          "name": "stdout",
          "text": [
            "[[ 0]\n",
            " [ 1]\n",
            " [ 2]\n",
            " [ 3]\n",
            " [ 4]\n",
            " [ 5]\n",
            " [ 6]\n",
            " [ 7]\n",
            " [ 8]\n",
            " [ 9]\n",
            " [10]\n",
            " [11]]\n"
          ]
        },
        {
          "output_type": "execute_result",
          "data": {
            "text/plain": [
              "(12, 1)"
            ]
          },
          "metadata": {},
          "execution_count": 36
        }
      ]
    },
    {
      "cell_type": "code",
      "source": [
        "b.shape =-1, 3\n",
        "print(b)\n",
        "b.shape\n",
        "print(b.size)"
      ],
      "metadata": {
        "colab": {
          "base_uri": "https://localhost:8080/"
        },
        "id": "VCma_OC_CEkU",
        "outputId": "efc30733-a0c9-41dc-e9eb-455094acda87"
      },
      "execution_count": 44,
      "outputs": [
        {
          "output_type": "stream",
          "name": "stdout",
          "text": [
            "[[ 0  1  2]\n",
            " [ 3  4  5]\n",
            " [ 6  7  8]\n",
            " [ 9 10 11]]\n",
            "12\n"
          ]
        }
      ]
    },
    {
      "cell_type": "code",
      "source": [
        "b.shape = -1\n",
        "print(b)\n",
        "b.shape"
      ],
      "metadata": {
        "colab": {
          "base_uri": "https://localhost:8080/"
        },
        "id": "tuO2zx_ICVV8",
        "outputId": "cc3c7c21-dabd-4d90-af39-e202cc68bcb7"
      },
      "execution_count": 40,
      "outputs": [
        {
          "output_type": "stream",
          "name": "stdout",
          "text": [
            "[ 0  1  2  3  4  5  6  7  8  9 10 11]\n"
          ]
        },
        {
          "output_type": "execute_result",
          "data": {
            "text/plain": [
              "(12,)"
            ]
          },
          "metadata": {},
          "execution_count": 40
        }
      ]
    },
    {
      "cell_type": "code",
      "source": [
        "c=np.arange(13) #1차원 벡터 생성\n",
        "print(b)"
      ],
      "metadata": {
        "colab": {
          "base_uri": "https://localhost:8080/"
        },
        "id": "R2xAbVSvCxQd",
        "outputId": "f8ed810b-32bc-4a50-e5ec-36879c6357d3"
      },
      "execution_count": 41,
      "outputs": [
        {
          "output_type": "stream",
          "name": "stdout",
          "text": [
            "[ 0  1  2  3  4  5  6  7  8  9 10 11 12]\n"
          ]
        }
      ]
    },
    {
      "cell_type": "code",
      "source": [
        "c.shape\n",
        "c.shape = 2,-1\n",
        "print(c)\n",
        "c.shape  #요소의 갯수가 홀수로 갯수가 맞지 않아 에러 발생"
      ],
      "metadata": {
        "colab": {
          "base_uri": "https://localhost:8080/",
          "height": 200
        },
        "id": "cai7ZHc8C7Sq",
        "outputId": "edf8a005-d354-484c-fd29-77d1c568f35e"
      },
      "execution_count": 42,
      "outputs": [
        {
          "output_type": "error",
          "ename": "NameError",
          "evalue": "name 'c' is not defined",
          "traceback": [
            "\u001b[0;31m---------------------------------------------------------------------------\u001b[0m",
            "\u001b[0;31mNameError\u001b[0m                                 Traceback (most recent call last)",
            "\u001b[0;32m<ipython-input-42-793ddb9b1e22>\u001b[0m in \u001b[0;36m<cell line: 1>\u001b[0;34m()\u001b[0m\n\u001b[0;32m----> 1\u001b[0;31m \u001b[0mc\u001b[0m\u001b[0;34m.\u001b[0m\u001b[0mshape\u001b[0m\u001b[0;34m\u001b[0m\u001b[0;34m\u001b[0m\u001b[0m\n\u001b[0m\u001b[1;32m      2\u001b[0m \u001b[0mc\u001b[0m\u001b[0;34m.\u001b[0m\u001b[0mshape\u001b[0m \u001b[0;34m=\u001b[0m \u001b[0;36m2\u001b[0m\u001b[0;34m,\u001b[0m\u001b[0;34m-\u001b[0m\u001b[0;36m1\u001b[0m\u001b[0;34m\u001b[0m\u001b[0;34m\u001b[0m\u001b[0m\n\u001b[1;32m      3\u001b[0m \u001b[0mprint\u001b[0m\u001b[0;34m(\u001b[0m\u001b[0mc\u001b[0m\u001b[0;34m)\u001b[0m\u001b[0;34m\u001b[0m\u001b[0;34m\u001b[0m\u001b[0m\n\u001b[1;32m      4\u001b[0m \u001b[0mc\u001b[0m\u001b[0;34m.\u001b[0m\u001b[0mshape\u001b[0m\u001b[0;34m\u001b[0m\u001b[0;34m\u001b[0m\u001b[0m\n",
            "\u001b[0;31mNameError\u001b[0m: name 'c' is not defined"
          ]
        }
      ]
    },
    {
      "cell_type": "markdown",
      "source": [
        "- 자료형\n",
        "  - int 형 (정수)\n",
        "    - int64, int16, int8, uint64(uint는 양수로만 표현, int는 양수와 음수 범위의 수이며 int다음의 숫자는 Bit를 의미 예)int64--> 64비트로   )\n",
        "    - -2^63~2^63-1\n",
        "    - -2^15~2^15-1\n",
        "    - uint64 -> 0~2^127의 정수 표현의 범위 양의정수만 구한다\n",
        "  - float 형 (실수) - 부동소수점 표현 방식 또는 실수 표현방식(검색시 키워드)\n",
        "    - float64, float16, float8\n",
        "    - 자료저장모습 = 부호비트 1비트 지수부 7비트 가수부(8 or 24 or 58)\n",
        "    - 소수점 아래 저장하는 공간이 많아지게 하는 것\n",
        "    - 실수의 기본은 float64\n",
        "  - complex 형 (복소수)\n"
      ],
      "metadata": {
        "id": "dIi6s6unDzzN"
      }
    },
    {
      "cell_type": "code",
      "source": [
        "a=np.array([1,3,5,7,9]), np.int32\n",
        "print(a)\n",
        "a.dtype"
      ],
      "metadata": {
        "colab": {
          "base_uri": "https://localhost:8080/",
          "height": 200
        },
        "id": "Sn8QOf7EDw3j",
        "outputId": "477c021f-5b99-47b6-db5f-306008a23823"
      },
      "execution_count": 47,
      "outputs": [
        {
          "output_type": "stream",
          "name": "stdout",
          "text": [
            "(array([1, 3, 5, 7, 9]), <class 'numpy.int32'>)\n"
          ]
        },
        {
          "output_type": "error",
          "ename": "AttributeError",
          "evalue": "'tuple' object has no attribute 'dtype'",
          "traceback": [
            "\u001b[0;31m---------------------------------------------------------------------------\u001b[0m",
            "\u001b[0;31mAttributeError\u001b[0m                            Traceback (most recent call last)",
            "\u001b[0;32m<ipython-input-47-7e25ba12790a>\u001b[0m in \u001b[0;36m<cell line: 3>\u001b[0;34m()\u001b[0m\n\u001b[1;32m      1\u001b[0m \u001b[0ma\u001b[0m\u001b[0;34m=\u001b[0m\u001b[0mnp\u001b[0m\u001b[0;34m.\u001b[0m\u001b[0marray\u001b[0m\u001b[0;34m(\u001b[0m\u001b[0;34m[\u001b[0m\u001b[0;36m1\u001b[0m\u001b[0;34m,\u001b[0m\u001b[0;36m3\u001b[0m\u001b[0;34m,\u001b[0m\u001b[0;36m5\u001b[0m\u001b[0;34m,\u001b[0m\u001b[0;36m7\u001b[0m\u001b[0;34m,\u001b[0m\u001b[0;36m9\u001b[0m\u001b[0;34m]\u001b[0m\u001b[0;34m)\u001b[0m\u001b[0;34m,\u001b[0m \u001b[0mnp\u001b[0m\u001b[0;34m.\u001b[0m\u001b[0mint32\u001b[0m\u001b[0;34m\u001b[0m\u001b[0;34m\u001b[0m\u001b[0m\n\u001b[1;32m      2\u001b[0m \u001b[0mprint\u001b[0m\u001b[0;34m(\u001b[0m\u001b[0ma\u001b[0m\u001b[0;34m)\u001b[0m\u001b[0;34m\u001b[0m\u001b[0;34m\u001b[0m\u001b[0m\n\u001b[0;32m----> 3\u001b[0;31m \u001b[0ma\u001b[0m\u001b[0;34m.\u001b[0m\u001b[0mdtype\u001b[0m\u001b[0;34m\u001b[0m\u001b[0;34m\u001b[0m\u001b[0m\n\u001b[0m",
            "\u001b[0;31mAttributeError\u001b[0m: 'tuple' object has no attribute 'dtype'"
          ]
        }
      ]
    },
    {
      "cell_type": "code",
      "source": [
        "a=np.array([1,3,5,7,9]), np.int32 #int32의 자료표현 범위? (–2,147,483,648~2,147,483,647)\n",
        "print(a)\n",
        "a1=np.array([2147483645, 2147483646, 2147483647 ], np.int32 ) #범위 내의 값\n",
        "print(a)"
      ],
      "metadata": {
        "colab": {
          "base_uri": "https://localhost:8080/"
        },
        "id": "h5EtGyotH6DC",
        "outputId": "8b575793-ba5c-4ef6-a544-142614dabf09"
      },
      "execution_count": 61,
      "outputs": [
        {
          "output_type": "stream",
          "name": "stdout",
          "text": [
            "(array([1, 3, 5, 7, 9]), <class 'numpy.int32'>)\n",
            "(array([1, 3, 5, 7, 9]), <class 'numpy.int32'>)\n"
          ]
        }
      ]
    },
    {
      "cell_type": "code",
      "source": [
        "a=np.array([1,3,5,7,9]), np.int32 #int32의 자료표현 범위? (–2,147,483,648~2,147,483,647)\n",
        "print(a)\n",
        "a1=np.array([2147483646, 2147483647, 2147483649 ], np.int32 ) #범위 밖의 값\n",
        "print(a)"
      ],
      "metadata": {
        "colab": {
          "base_uri": "https://localhost:8080/"
        },
        "id": "aZNTvc5uI_1J",
        "outputId": "38007888-79b2-411e-e60d-5bd3ac252c5e"
      },
      "execution_count": 51,
      "outputs": [
        {
          "output_type": "stream",
          "name": "stdout",
          "text": [
            "(array([1, 3, 5, 7, 9]), <class 'numpy.int32'>)\n",
            "(array([1, 3, 5, 7, 9]), <class 'numpy.int32'>)\n"
          ]
        },
        {
          "output_type": "stream",
          "name": "stderr",
          "text": [
            "<ipython-input-51-42647a0e2c28>:3: DeprecationWarning: NumPy will stop allowing conversion of out-of-bound Python integers to integer arrays.  The conversion of 2147483649 to int32 will fail in the future.\n",
            "For the old behavior, usually:\n",
            "    np.array(value).astype(dtype)\n",
            "will give the desired result (the cast overflows).\n",
            "  a1=np.array([2147483646, 2147483647, 2147483649 ], np.int32 )\n"
          ]
        }
      ]
    },
    {
      "cell_type": "code",
      "source": [
        "a=np.array([1,3,5,7,9]), np.int64\n",
        "print(a)\n",
        "a1=np.array([2147483646, 2147483647, 2147483648 ], np.int32 ) #범위 밖의 값\n",
        "print(a)"
      ],
      "metadata": {
        "colab": {
          "base_uri": "https://localhost:8080/"
        },
        "id": "_hCSglsyJJZI",
        "outputId": "16780dd1-ddda-4ea0-8a35-5e689ebde181"
      },
      "execution_count": 53,
      "outputs": [
        {
          "output_type": "stream",
          "name": "stdout",
          "text": [
            "(array([1, 3, 5, 7, 9]), <class 'numpy.int64'>)\n",
            "(array([1, 3, 5, 7, 9]), <class 'numpy.int64'>)\n"
          ]
        },
        {
          "output_type": "stream",
          "name": "stderr",
          "text": [
            "<ipython-input-53-9d166e6d6809>:3: DeprecationWarning: NumPy will stop allowing conversion of out-of-bound Python integers to integer arrays.  The conversion of 2147483648 to int32 will fail in the future.\n",
            "For the old behavior, usually:\n",
            "    np.array(value).astype(dtype)\n",
            "will give the desired result (the cast overflows).\n",
            "  a1=np.array([2147483646, 2147483647, 2147483648 ], np.int32 )\n"
          ]
        }
      ]
    },
    {
      "cell_type": "code",
      "source": [
        "a2=np.array([2**63, 2**63+1, 2**63+2], np.uint64)\n",
        "print(a2)\n",
        "a2.dtype"
      ],
      "metadata": {
        "colab": {
          "base_uri": "https://localhost:8080/"
        },
        "id": "dT7OXSxDJt7i",
        "outputId": "eb062d66-6d9f-485e-fc02-38fddf5b99bc"
      },
      "execution_count": 56,
      "outputs": [
        {
          "output_type": "stream",
          "name": "stdout",
          "text": [
            "[9223372036854775808 9223372036854775809 9223372036854775810]\n"
          ]
        },
        {
          "output_type": "execute_result",
          "data": {
            "text/plain": [
              "dtype('uint64')"
            ]
          },
          "metadata": {},
          "execution_count": 56
        }
      ]
    },
    {
      "cell_type": "code",
      "source": [
        "a3=np.array( [2**62, -2**62 ] )\n",
        "print(a3)\n",
        "a3.dtype"
      ],
      "metadata": {
        "colab": {
          "base_uri": "https://localhost:8080/"
        },
        "id": "oN8t7d1WKO24",
        "outputId": "7f2835cf-a25f-4445-d695-168af7494195"
      },
      "execution_count": 58,
      "outputs": [
        {
          "output_type": "stream",
          "name": "stdout",
          "text": [
            "[ 4611686018427387904 -4611686018427387904]\n"
          ]
        },
        {
          "output_type": "execute_result",
          "data": {
            "text/plain": [
              "dtype('int64')"
            ]
          },
          "metadata": {},
          "execution_count": 58
        }
      ]
    },
    {
      "cell_type": "code",
      "source": [
        "a4=np.array([1,3,5,7,9])  #자료형을 명시하지 않으면 int는 기본이 64비트이며 범위가 작다면 int32, int16, int8로 명시하여 데이터를 아낄 수 있다\n",
        "print(a4)\n",
        "a4.dtype"
      ],
      "metadata": {
        "colab": {
          "base_uri": "https://localhost:8080/"
        },
        "id": "6dA5Wi43Kt0v",
        "outputId": "b6efab6d-5e58-43d1-8817-fdf424ce8956"
      },
      "execution_count": 59,
      "outputs": [
        {
          "output_type": "stream",
          "name": "stdout",
          "text": [
            "[1 3 5 7 9]\n"
          ]
        },
        {
          "output_type": "execute_result",
          "data": {
            "text/plain": [
              "dtype('int64')"
            ]
          },
          "metadata": {},
          "execution_count": 59
        }
      ]
    },
    {
      "cell_type": "code",
      "source": [
        "a = np.array(3.141592653589793, np.float16) #소숫점 2자리까지 정확\n",
        "print(a)\n",
        "a.dtype"
      ],
      "metadata": {
        "colab": {
          "base_uri": "https://localhost:8080/"
        },
        "id": "RO5PPnaPRNeE",
        "outputId": "70e5824c-ef41-4a2a-c1ab-bc5eea9520fc"
      },
      "execution_count": 66,
      "outputs": [
        {
          "output_type": "stream",
          "name": "stdout",
          "text": [
            "3.14\n"
          ]
        },
        {
          "output_type": "execute_result",
          "data": {
            "text/plain": [
              "dtype('float16')"
            ]
          },
          "metadata": {},
          "execution_count": 66
        }
      ]
    },
    {
      "cell_type": "code",
      "source": [
        "a = np.array(3.141592653589793, np.float32) #소숫점 6자리까지 정확\n",
        "print(a)\n",
        "a.dtype"
      ],
      "metadata": {
        "colab": {
          "base_uri": "https://localhost:8080/"
        },
        "id": "0umCMM4_QXwT",
        "outputId": "72e8db80-da46-42a8-ec8d-674410fef122"
      },
      "execution_count": 64,
      "outputs": [
        {
          "output_type": "stream",
          "name": "stdout",
          "text": [
            "3.1415927\n"
          ]
        },
        {
          "output_type": "execute_result",
          "data": {
            "text/plain": [
              "dtype('float32')"
            ]
          },
          "metadata": {},
          "execution_count": 64
        }
      ]
    },
    {
      "cell_type": "code",
      "source": [
        "a = np.array(3.141592653589793, np.float64) #소숫점 15자리까지 정확\n",
        "print(a)\n",
        "a.dtype"
      ],
      "metadata": {
        "colab": {
          "base_uri": "https://localhost:8080/"
        },
        "id": "_hXtTDPHRJlF",
        "outputId": "89aa9f27-065b-4f90-98c3-a9c78975137e"
      },
      "execution_count": 65,
      "outputs": [
        {
          "output_type": "stream",
          "name": "stdout",
          "text": [
            "3.141592653589793\n"
          ]
        },
        {
          "output_type": "execute_result",
          "data": {
            "text/plain": [
              "dtype('float64')"
            ]
          },
          "metadata": {},
          "execution_count": 65
        }
      ]
    },
    {
      "cell_type": "code",
      "source": [
        "a = np.array(3.141592653589793) #기본은 float64임, 소숫점 15자리까지 정확\n",
        "print(a)\n",
        "a.dtype"
      ],
      "metadata": {
        "colab": {
          "base_uri": "https://localhost:8080/"
        },
        "id": "UwH7d3eWRja8",
        "outputId": "4e248a4d-e25a-4aea-f3f1-1c04c34c6a85"
      },
      "execution_count": 67,
      "outputs": [
        {
          "output_type": "stream",
          "name": "stdout",
          "text": [
            "3.141592653589793\n"
          ]
        },
        {
          "output_type": "execute_result",
          "data": {
            "text/plain": [
              "dtype('float64')"
            ]
          },
          "metadata": {},
          "execution_count": 67
        }
      ]
    },
    {
      "cell_type": "code",
      "source": [
        "a = np.array(  [1,2j,3+4j,2.72+3.14j  ])\n",
        "print(a)\n",
        "a.dtype\n",
        "a.real #실수만 추출\n",
        "a.imag #허수만 추출\n",
        "print(a.real.dtype)\n",
        "print(a.imag.dtype)"
      ],
      "metadata": {
        "colab": {
          "base_uri": "https://localhost:8080/"
        },
        "id": "JUFnTLEhS94r",
        "outputId": "8a91bcf8-49b7-48aa-94b5-9753dfa458c8"
      },
      "execution_count": 72,
      "outputs": [
        {
          "output_type": "stream",
          "name": "stdout",
          "text": [
            "[1.  +0.j   0.  +2.j   3.  +4.j   2.72+3.14j]\n",
            "float64\n",
            "float64\n"
          ]
        }
      ]
    },
    {
      "cell_type": "markdown",
      "source": [
        "1. 인덱싱 indexing\n",
        "  1) 1DArray\n",
        "  2) 2DArray\n",
        "2. 슬라이싱 slicing\n",
        "  1) 1DArray\n",
        "  2) 2DArray  \n",
        "3. leterating\n",
        "  1) 1DArray\n",
        "  2) 2DArray  \n"
      ],
      "metadata": {
        "id": "gC9MidvxVYFU"
      }
    },
    {
      "cell_type": "code",
      "source": [
        "a=np.array([1,3,5,7,9])\n",
        "print(a)\n",
        "print(a.ndim)\n",
        "print(a.shape)\n",
        "print(a[0])\n",
        "print(a[3])\n",
        "print(a[-1])\n",
        "print(a[-2])"
      ],
      "metadata": {
        "colab": {
          "base_uri": "https://localhost:8080/"
        },
        "id": "HwmHXPNyWAWV",
        "outputId": "45bbedae-0497-4389-d971-41ae60c9f49f"
      },
      "execution_count": 80,
      "outputs": [
        {
          "output_type": "stream",
          "name": "stdout",
          "text": [
            "[1 3 5 7 9]\n",
            "1\n",
            "(5,)\n",
            "1\n",
            "7\n",
            "9\n",
            "7\n"
          ]
        }
      ]
    },
    {
      "cell_type": "code",
      "source": [
        "a2 = np.array( [ [1,3,5],[2,4,6] ] )\n",
        "print(a2)\n",
        "print(a2.ndim)\n",
        "print(a2.shape)\n",
        "#1,5,4 추출\n",
        "print([ a2[0,0], a2[0,2], a2[1,1]])\n",
        "#6,3 추출\n",
        "print(a2[1,2], a2[0,1])"
      ],
      "metadata": {
        "colab": {
          "base_uri": "https://localhost:8080/"
        },
        "id": "s8a141EYWw5Z",
        "outputId": "d296f5dd-2895-455c-aaa0-44a9391b909e"
      },
      "execution_count": 89,
      "outputs": [
        {
          "output_type": "stream",
          "name": "stdout",
          "text": [
            "[[1 3 5]\n",
            " [2 4 6]]\n",
            "2\n",
            "(2, 3)\n",
            "[1, 5, 4]\n",
            "6 3\n",
            "[[ 1  3  5]\n",
            " [25  4  6]]\n"
          ]
        }
      ]
    },
    {
      "cell_type": "code",
      "source": [
        "#3->13\n",
        "a2[0,1]=13\n",
        "#2->25\n",
        "a2[1,0]=25\n",
        "print(a2)"
      ],
      "metadata": {
        "colab": {
          "base_uri": "https://localhost:8080/"
        },
        "id": "TSyv9yS-YuYB",
        "outputId": "43681b46-72a7-461b-f4c4-be140308f93b"
      },
      "execution_count": 91,
      "outputs": [
        {
          "output_type": "stream",
          "name": "stdout",
          "text": [
            "[[ 1 13  5]\n",
            " [25  4  6]]\n"
          ]
        }
      ]
    },
    {
      "cell_type": "code",
      "source": [
        "#0번행 전체의 값에다 +10하기\n",
        "print([a2[0]])\n",
        "print([a2[0, :]])\n",
        "print(a2[0,0:3])\n",
        "a2[0] = a[0] +10\n",
        "print(a2[0])"
      ],
      "metadata": {
        "colab": {
          "base_uri": "https://localhost:8080/"
        },
        "id": "6Te85EGcam5M",
        "outputId": "789364cd-d106-41a4-9d7f-e9292aafa0bd"
      },
      "execution_count": 92,
      "outputs": [
        {
          "output_type": "stream",
          "name": "stdout",
          "text": [
            "[array([ 1, 13,  5])]\n",
            "[array([ 1, 13,  5])]\n",
            "[ 1 13  5]\n",
            "[11 11 11]\n"
          ]
        }
      ]
    },
    {
      "cell_type": "code",
      "source": [
        "#1번행 전체의 값에다 *2 하기\n",
        "a2[1] = a[1] *2\n",
        "a2[1] *= 2\n",
        "#1번행 전체의 값에다 *2 하기\n",
        "a2[ :,1:2 ] = a2[ :, 1:2] /2\n",
        "print(a2)"
      ],
      "metadata": {
        "colab": {
          "base_uri": "https://localhost:8080/"
        },
        "id": "5oya4HBicObo",
        "outputId": "50b4c6a0-5f96-4c15-d31f-754825e74f70"
      },
      "execution_count": 96,
      "outputs": [
        {
          "output_type": "stream",
          "name": "stdout",
          "text": [
            "[[11  1 11]\n",
            " [12  6 12]]\n"
          ]
        }
      ]
    },
    {
      "cell_type": "code",
      "source": [
        "a=np.array([1,3,5,7,9])\n",
        "print(a.ndim)\n",
        "print(a.shape)\n",
        "print(a[:])\n",
        "print(a[0:])\n",
        "print(a[1:])\n",
        "print(a[2:])\n",
        "print(a[3:])\n",
        "print(a[:0])\n",
        "print(a[:1])\n",
        "print(a[:2])\n",
        "#print(a[1,3,5])에러발생\n",
        "print(a[:-1])\n",
        "print(a[:-2])\n",
        "print(a[1:4])\n"
      ],
      "metadata": {
        "colab": {
          "base_uri": "https://localhost:8080/"
        },
        "id": "efEXQHjrc09L",
        "outputId": "24d4428f-4368-483d-83f8-8d1887dc4ba2"
      },
      "execution_count": 107,
      "outputs": [
        {
          "output_type": "stream",
          "name": "stdout",
          "text": [
            "1\n",
            "(5,)\n",
            "[1 3 5 7 9]\n",
            "[1 3 5 7 9]\n",
            "[3 5 7 9]\n",
            "[5 7 9]\n",
            "[7 9]\n",
            "[]\n",
            "[1]\n",
            "[1 3]\n",
            "[1 3 5 7]\n",
            "[1 3 5]\n",
            "[3 5 7]\n"
          ]
        }
      ]
    },
    {
      "cell_type": "code",
      "source": [
        "a2=np.arange(10) #0~9까지 연속적인 수의 배열\n",
        "print(a2)\n",
        "print(a2[::2]) #처음인덱스:끝인덱스:증가인덱스 < 끝인덱스 -1 임 끝은 미포함 >\n",
        "print(a2[::3])\n",
        "print(a2[::4])\n",
        "print(a2[::-1])\n",
        "print(a2[::-2])\n",
        "print(a2[1::2])\n",
        "print(a2[:-2:2])\n",
        "print(a2[:-4:2])\n",
        "print(a2[2:-2:2])"
      ],
      "metadata": {
        "colab": {
          "base_uri": "https://localhost:8080/"
        },
        "id": "jHLqWkFneZZ2",
        "outputId": "b711bbdc-9ed4-4cf5-c522-a8bb2647d564"
      },
      "execution_count": 117,
      "outputs": [
        {
          "output_type": "stream",
          "name": "stdout",
          "text": [
            "[0 1 2 3 4 5 6 7 8 9]\n",
            "[0 2 4 6 8]\n",
            "[0 3 6 9]\n",
            "[0 4 8]\n",
            "[9 8 7 6 5 4 3 2 1 0]\n",
            "[9 7 5 3 1]\n",
            "[1 3 5 7 9]\n",
            "[0 2 4 6]\n",
            "[0 2 4]\n",
            "[2 4 6]\n"
          ]
        }
      ]
    },
    {
      "cell_type": "code",
      "source": [
        "a3=np.arange(15)\n",
        "print(a3)\n",
        "print(a3[1:10:2])\n",
        "print(a3[2:11:2])\n",
        "print(a3[:9:-1])\n",
        "print(a3[:])\n",
        "print(a3[1:2])\n",
        "print(a3[-1:-2:-1])"
      ],
      "metadata": {
        "colab": {
          "base_uri": "https://localhost:8080/"
        },
        "id": "dQeIgc72hMFh",
        "outputId": "227abd4a-c977-4688-93f1-24f1cf56e89d"
      },
      "execution_count": 129,
      "outputs": [
        {
          "output_type": "stream",
          "name": "stdout",
          "text": [
            "[ 0  1  2  3  4  5  6  7  8  9 10 11 12 13 14]\n",
            "[1 3 5 7 9]\n",
            "[ 2  4  6  8 10]\n",
            "[14 13 12 11 10]\n",
            "[ 0  1  2  3  4  5  6  7  8  9 10 11 12 13 14]\n",
            "[1]\n",
            "[14]\n"
          ]
        }
      ]
    },
    {
      "cell_type": "code",
      "source": [
        "#슬라이싱 slicing 2D Array\n",
        "a=np.arange(10,25).reshape(3,5)\n",
        "print(a)\n",
        "print(a.ndim)\n",
        "print(a.shape)\n",
        "print(a[:])\n",
        "print(a[0:])\n",
        "print(a[1:])\n",
        "print(a[-1:])\n",
        "print(a[-2:])\n",
        "print(a[-3:])\n",
        "print(a[:0],'ccc')\n",
        "print(a[:1], 'ddd')\n",
        "print(a[:-1], 'aaa')"
      ],
      "metadata": {
        "colab": {
          "base_uri": "https://localhost:8080/"
        },
        "id": "i1LLDWAly4PK",
        "outputId": "407005f6-b643-4519-81c5-e11fd641d74f"
      },
      "execution_count": 139,
      "outputs": [
        {
          "output_type": "stream",
          "name": "stdout",
          "text": [
            "[[10 11 12 13 14]\n",
            " [15 16 17 18 19]\n",
            " [20 21 22 23 24]]\n",
            "2\n",
            "(3, 5)\n",
            "[[10 11 12 13 14]\n",
            " [15 16 17 18 19]\n",
            " [20 21 22 23 24]]\n",
            "[[10 11 12 13 14]\n",
            " [15 16 17 18 19]\n",
            " [20 21 22 23 24]]\n",
            "[[15 16 17 18 19]\n",
            " [20 21 22 23 24]]\n",
            "[[20 21 22 23 24]]\n",
            "[[15 16 17 18 19]\n",
            " [20 21 22 23 24]]\n",
            "[[10 11 12 13 14]\n",
            " [15 16 17 18 19]\n",
            " [20 21 22 23 24]]\n",
            "[] ccc\n",
            "[[10 11 12 13 14]] ddd\n",
            "[[10 11 12 13 14]\n",
            " [15 16 17 18 19]] aaa\n"
          ]
        }
      ]
    },
    {
      "cell_type": "code",
      "source": [
        "print( a[ : , 0: ] )"
      ],
      "metadata": {
        "colab": {
          "base_uri": "https://localhost:8080/"
        },
        "id": "urzOrqV90nZf",
        "outputId": "b6fc2465-eca1-49b0-f32d-b25c0d9bb600"
      },
      "execution_count": 140,
      "outputs": [
        {
          "output_type": "stream",
          "name": "stdout",
          "text": [
            "[[10 11 12 13 14]\n",
            " [15 16 17 18 19]\n",
            " [20 21 22 23 24]]\n"
          ]
        }
      ]
    },
    {
      "cell_type": "code",
      "source": [
        "print( a[ : , 1: ] )"
      ],
      "metadata": {
        "colab": {
          "base_uri": "https://localhost:8080/"
        },
        "id": "AfIwOcgH0-8v",
        "outputId": "28ff896e-3063-4eb4-f35a-275644e31339"
      },
      "execution_count": 141,
      "outputs": [
        {
          "output_type": "stream",
          "name": "stdout",
          "text": [
            "[[11 12 13 14]\n",
            " [16 17 18 19]\n",
            " [21 22 23 24]]\n"
          ]
        }
      ]
    },
    {
      "cell_type": "code",
      "source": [
        "print( a[ : , -3: ] )"
      ],
      "metadata": {
        "colab": {
          "base_uri": "https://localhost:8080/"
        },
        "id": "ZoEDNLLd1DZ_",
        "outputId": "9da4bc5c-a506-4ede-8b96-3d2271bc2ec0"
      },
      "execution_count": 142,
      "outputs": [
        {
          "output_type": "stream",
          "name": "stdout",
          "text": [
            "[[12 13 14]\n",
            " [17 18 19]\n",
            " [22 23 24]]\n"
          ]
        }
      ]
    },
    {
      "cell_type": "code",
      "source": [
        "print( a[ : , 1:-1 ] )"
      ],
      "metadata": {
        "colab": {
          "base_uri": "https://localhost:8080/"
        },
        "id": "ep872dTk1ScH",
        "outputId": "ecf91db7-8f4f-46f7-d378-d8db7c94c55d"
      },
      "execution_count": 143,
      "outputs": [
        {
          "output_type": "stream",
          "name": "stdout",
          "text": [
            "[[11 12 13]\n",
            " [16 17 18]\n",
            " [21 22 23]]\n"
          ]
        }
      ]
    },
    {
      "cell_type": "code",
      "source": [
        "print( a[ 1: , 1:3 ] )"
      ],
      "metadata": {
        "colab": {
          "base_uri": "https://localhost:8080/"
        },
        "id": "ieusocT41fNn",
        "outputId": "6760363b-ede5-44fb-fb28-9fa30feb38ea"
      },
      "execution_count": 144,
      "outputs": [
        {
          "output_type": "stream",
          "name": "stdout",
          "text": [
            "[[16 17]\n",
            " [21 22]]\n"
          ]
        }
      ]
    },
    {
      "cell_type": "code",
      "source": [
        "print( a[ : , -2: ] )"
      ],
      "metadata": {
        "colab": {
          "base_uri": "https://localhost:8080/"
        },
        "id": "V2rn2GnM12lW",
        "outputId": "b1ede89c-8cf5-401d-8e8b-5cf51fa1ed8a"
      },
      "execution_count": 147,
      "outputs": [
        {
          "output_type": "stream",
          "name": "stdout",
          "text": [
            "[[13 14]\n",
            " [18 19]\n",
            " [23 24]]\n"
          ]
        }
      ]
    },
    {
      "cell_type": "code",
      "source": [
        "a=np.arange(10,100).reshape(9,10)\n",
        "print(a)"
      ],
      "metadata": {
        "colab": {
          "base_uri": "https://localhost:8080/"
        },
        "id": "QZ6Ld8M12XwX",
        "outputId": "8ba8fdc7-4947-42dc-f3a3-759d52e5deb6"
      },
      "execution_count": 150,
      "outputs": [
        {
          "output_type": "stream",
          "name": "stdout",
          "text": [
            "[[10 11 12 13 14 15 16 17 18 19]\n",
            " [20 21 22 23 24 25 26 27 28 29]\n",
            " [30 31 32 33 34 35 36 37 38 39]\n",
            " [40 41 42 43 44 45 46 47 48 49]\n",
            " [50 51 52 53 54 55 56 57 58 59]\n",
            " [60 61 62 63 64 65 66 67 68 69]\n",
            " [70 71 72 73 74 75 76 77 78 79]\n",
            " [80 81 82 83 84 85 86 87 88 89]\n",
            " [90 91 92 93 94 95 96 97 98 99]]\n",
            "[[10 11 12 13 14 15 16 17 18 19]\n",
            " [20 21 22 23 24 25 26 27 28 29]\n",
            " [30 31 32 33 34 35 36 37 38 39]]\n"
          ]
        }
      ]
    },
    {
      "cell_type": "code",
      "source": [
        "print(a[:3, : ] )"
      ],
      "metadata": {
        "colab": {
          "base_uri": "https://localhost:8080/"
        },
        "id": "ro3wJHEJ3BQl",
        "outputId": "8b98d755-3b70-418e-999b-8861b8b0814f"
      },
      "execution_count": 151,
      "outputs": [
        {
          "output_type": "stream",
          "name": "stdout",
          "text": [
            "[[10 11 12 13 14 15 16 17 18 19]\n",
            " [20 21 22 23 24 25 26 27 28 29]\n",
            " [30 31 32 33 34 35 36 37 38 39]]\n"
          ]
        }
      ]
    },
    {
      "cell_type": "code",
      "source": [
        "print(a[ 1:5, -4:-1 ] )"
      ],
      "metadata": {
        "colab": {
          "base_uri": "https://localhost:8080/"
        },
        "id": "YDt2KvTi3KRt",
        "outputId": "a86c250e-144a-446f-dcdd-62707b283aca"
      },
      "execution_count": 154,
      "outputs": [
        {
          "output_type": "stream",
          "name": "stdout",
          "text": [
            "[[26 27 28]\n",
            " [36 37 38]\n",
            " [46 47 48]\n",
            " [56 57 58]]\n"
          ]
        }
      ]
    },
    {
      "cell_type": "code",
      "source": [
        "#leterating 반복자  1DArray\n",
        "a=np.arange(11)**2\n",
        "print(a)"
      ],
      "metadata": {
        "colab": {
          "base_uri": "https://localhost:8080/"
        },
        "id": "m1gUXfo63yzk",
        "outputId": "c9013f98-f176-4e03-c2c0-16de3e811b23"
      },
      "execution_count": 156,
      "outputs": [
        {
          "output_type": "stream",
          "name": "stdout",
          "text": [
            "[  0   1   4   9  16  25  36  49  64  81 100]\n"
          ]
        }
      ]
    },
    {
      "cell_type": "code",
      "source": [
        "a=np.arange(11)**3\n",
        "print(a)"
      ],
      "metadata": {
        "colab": {
          "base_uri": "https://localhost:8080/"
        },
        "id": "qm4zZGh64cSd",
        "outputId": "ae293618-aa93-4d08-d1cc-57ed13d5cd56"
      },
      "execution_count": 157,
      "outputs": [
        {
          "output_type": "stream",
          "name": "stdout",
          "text": [
            "[   0    1    8   27   64  125  216  343  512  729 1000]\n"
          ]
        }
      ]
    },
    {
      "cell_type": "code",
      "source": [
        "for a1 in a :\n",
        "  print(a1)"
      ],
      "metadata": {
        "colab": {
          "base_uri": "https://localhost:8080/"
        },
        "id": "3qgwHhge4fF9",
        "outputId": "87157bf3-a7de-424f-bc7a-b5968c8c0b5d"
      },
      "execution_count": 158,
      "outputs": [
        {
          "output_type": "stream",
          "name": "stdout",
          "text": [
            "0\n",
            "1\n",
            "8\n",
            "27\n",
            "64\n",
            "125\n",
            "216\n",
            "343\n",
            "512\n",
            "729\n",
            "1000\n"
          ]
        }
      ]
    },
    {
      "cell_type": "code",
      "source": [
        "#leterating 반복자 2DArray\n",
        "#10~21까지 3행 4열 배역\n",
        "b=np.arange(10,22).reshape(3,4)\n",
        "print(b)"
      ],
      "metadata": {
        "colab": {
          "base_uri": "https://localhost:8080/"
        },
        "id": "zOA9W4mX4xY2",
        "outputId": "4b89a938-7810-47ab-f088-753059d79efd"
      },
      "execution_count": 160,
      "outputs": [
        {
          "output_type": "stream",
          "name": "stdout",
          "text": [
            "[[10 11 12 13]\n",
            " [14 15 16 17]\n",
            " [18 19 20 21]]\n"
          ]
        }
      ]
    },
    {
      "cell_type": "code",
      "source": [
        "for bb in b :\n",
        "  print(bb) #한 행씩 출력"
      ],
      "metadata": {
        "colab": {
          "base_uri": "https://localhost:8080/"
        },
        "id": "zk9zN4Bo5Lid",
        "outputId": "4ce93dc5-81db-4f7a-f039-553a43bb3a6d"
      },
      "execution_count": 161,
      "outputs": [
        {
          "output_type": "stream",
          "name": "stdout",
          "text": [
            "[10 11 12 13]\n",
            "[14 15 16 17]\n",
            "[18 19 20 21]\n"
          ]
        }
      ]
    },
    {
      "cell_type": "code",
      "source": [
        "#요소별로 출력\n",
        "for b1 in b :\n",
        "  for b2 in b1 :\n",
        "    print(b2)"
      ],
      "metadata": {
        "colab": {
          "base_uri": "https://localhost:8080/"
        },
        "id": "3OxuOHwJ5kfN",
        "outputId": "9459bec0-c56a-4a1f-9c0a-9cec8ec054cf"
      },
      "execution_count": 162,
      "outputs": [
        {
          "output_type": "stream",
          "name": "stdout",
          "text": [
            "10\n",
            "11\n",
            "12\n",
            "13\n",
            "14\n",
            "15\n",
            "16\n",
            "17\n",
            "18\n",
            "19\n",
            "20\n",
            "21\n"
          ]
        }
      ]
    },
    {
      "cell_type": "markdown",
      "source": [
        "### 배열의 명령어\n",
        "  - arnage\n",
        "    - 형식 : np.arange([시작수,] 끝수[, 증가수, 자료형]  )\n",
        "  - linespace\n",
        "  - transpose\n",
        "  - reshape\n",
        "  - r_\n",
        "  - c_\n",
        "  - concatenate\n",
        "  - hstack, vstack\n",
        "  - zeros\n",
        "  - ones\n",
        "  - full\n",
        "  - empty"
      ],
      "metadata": {
        "id": "w_hxHZk06ad8"
      }
    },
    {
      "cell_type": "code",
      "source": [
        "#arnage\n",
        "a=np.arange(10, 101, 5)\n",
        "print(a)"
      ],
      "metadata": {
        "colab": {
          "base_uri": "https://localhost:8080/"
        },
        "id": "Sr4By3F-6X43",
        "outputId": "d59f7bfa-e0ac-4d36-9168-460a01d9d4c9"
      },
      "execution_count": 163,
      "outputs": [
        {
          "output_type": "stream",
          "name": "stdout",
          "text": [
            "[ 10  15  20  25  30  35  40  45  50  55  60  65  70  75  80  85  90  95\n",
            " 100]\n"
          ]
        }
      ]
    },
    {
      "cell_type": "code",
      "source": [
        "a=np.arange(10, dtype=np.float32)\n",
        "print(a)"
      ],
      "metadata": {
        "colab": {
          "base_uri": "https://localhost:8080/"
        },
        "id": "rh-TO-kX7sB_",
        "outputId": "400a157f-8157-4dd1-a6ae-b0b99d32e656"
      },
      "execution_count": 170,
      "outputs": [
        {
          "output_type": "stream",
          "name": "stdout",
          "text": [
            "[0. 1. 2. 3. 4. 5. 6. 7. 8. 9.]\n"
          ]
        }
      ]
    },
    {
      "cell_type": "code",
      "source": [
        "#0, 0.1, 0,2 ...0.9\n",
        "a=np.arange(0, 1.0, 0.1)\n",
        "print(a)\n",
        "print(a.dtype)"
      ],
      "metadata": {
        "colab": {
          "base_uri": "https://localhost:8080/"
        },
        "id": "okskdkPr8SRd",
        "outputId": "0b8cf817-0b33-49ad-9f7d-4e05ca3ee2da"
      },
      "execution_count": 177,
      "outputs": [
        {
          "output_type": "stream",
          "name": "stdout",
          "text": [
            "[0.  0.1 0.2 0.3 0.4 0.5 0.6 0.7 0.8 0.9]\n",
            "float64\n"
          ]
        }
      ]
    },
    {
      "cell_type": "code",
      "source": [
        "#linespace  시작수 끝수 갯수\n",
        "a=np.linspace(0, 100, 11)\n",
        "print(a)"
      ],
      "metadata": {
        "colab": {
          "base_uri": "https://localhost:8080/"
        },
        "id": "tuDa7cKA_hKC",
        "outputId": "a66dae41-cf3e-4afe-a9e4-003ba7709bf3"
      },
      "execution_count": 180,
      "outputs": [
        {
          "output_type": "stream",
          "name": "stdout",
          "text": [
            "[  0.  10.  20.  30.  40.  50.  60.  70.  80.  90. 100.]\n"
          ]
        }
      ]
    },
    {
      "cell_type": "code",
      "source": [
        "#transpose\n",
        "a=np.array( [ [1,2,3],[4,5,6] ] )\n",
        "b=a.T #0열->0행으로 1열->1행\n",
        "print(a)\n",
        "print(b)"
      ],
      "metadata": {
        "colab": {
          "base_uri": "https://localhost:8080/"
        },
        "id": "nPa_hQKiAPxB",
        "outputId": "ed2a345c-8225-4c5f-a1d7-f905aa611025"
      },
      "execution_count": 183,
      "outputs": [
        {
          "output_type": "stream",
          "name": "stdout",
          "text": [
            "[[1 2 3]\n",
            " [4 5 6]]\n",
            "[[1 4]\n",
            " [2 5]\n",
            " [3 6]]\n"
          ]
        }
      ]
    },
    {
      "cell_type": "code",
      "source": [
        "#transpose\n",
        "a=np.array( [ [1,2,3],[4,5,6] ] )\n",
        "b=a.T #0열->0행으로 1열->1행 (열을 행으로)\n",
        "print(a)\n",
        "print(b)\n",
        "b2=np.transpose(a) ##0열->0행으로 1열->1행 (열을 행으로)\n",
        "print(b2)"
      ],
      "metadata": {
        "colab": {
          "base_uri": "https://localhost:8080/"
        },
        "id": "RKWAoZF5A9fh",
        "outputId": "08f51383-4572-4a82-8c01-47316c24abad"
      },
      "execution_count": 184,
      "outputs": [
        {
          "output_type": "stream",
          "name": "stdout",
          "text": [
            "[[1 2 3]\n",
            " [4 5 6]]\n",
            "[[1 4]\n",
            " [2 5]\n",
            " [3 6]]\n",
            "[[1 4]\n",
            " [2 5]\n",
            " [3 6]]\n"
          ]
        }
      ]
    },
    {
      "cell_type": "code",
      "source": [
        "bb2=np.transpose(b2) ##0열->0행으로 1열->1행 (열을 행으로)\n",
        "print(bb2)\n",
        "aa=b.T\n",
        "print(aa)"
      ],
      "metadata": {
        "colab": {
          "base_uri": "https://localhost:8080/"
        },
        "id": "jsEkHEZ1Bav4",
        "outputId": "0f47360a-33eb-4dcc-948b-70066855bde1"
      },
      "execution_count": 186,
      "outputs": [
        {
          "output_type": "stream",
          "name": "stdout",
          "text": [
            "[[1 2 3]\n",
            " [4 5 6]]\n",
            "[[1 2 3]\n",
            " [4 5 6]]\n"
          ]
        }
      ]
    },
    {
      "cell_type": "code",
      "source": [
        "#reshape (행수, 열수)\n",
        "a=np.array([1,2,3,4,5,6]).reshape(3,2)\n",
        "print(a)"
      ],
      "metadata": {
        "colab": {
          "base_uri": "https://localhost:8080/"
        },
        "id": "Y6ryTO2FBuI4",
        "outputId": "5bf78e31-b136-4f34-cb19-a94b39c6fa22"
      },
      "execution_count": 187,
      "outputs": [
        {
          "output_type": "stream",
          "name": "stdout",
          "text": [
            "[[1 2]\n",
            " [3 4]\n",
            " [5 6]]\n"
          ]
        }
      ]
    },
    {
      "cell_type": "code",
      "source": [
        "#r_  - row 행으로 합치기\n",
        "a=np.array([1,2,3])\n",
        "b=np.array([4,5,6,7])\n",
        "print(a)\n",
        "print(b)\n",
        "c=np.r_[a,b]\n",
        "print(c)\n"
      ],
      "metadata": {
        "colab": {
          "base_uri": "https://localhost:8080/"
        },
        "id": "4lKTJE2DCRmk",
        "outputId": "870fc704-433a-4a55-c06a-46aea742d6e7"
      },
      "execution_count": 188,
      "outputs": [
        {
          "output_type": "stream",
          "name": "stdout",
          "text": [
            "[1 2 3]\n",
            "[4 5 6 7]\n",
            "[1 2 3 4 5 6 7]\n"
          ]
        }
      ]
    },
    {
      "cell_type": "code",
      "source": [
        "#c_ - colunm 을 열행태로 합치기\n",
        "a=np.array([1,2,3])\n",
        "b=np.array([4,5,6])\n",
        "print(a)\n",
        "print(b)\n",
        "c=np.c_[a,b]\n",
        "print(c)"
      ],
      "metadata": {
        "colab": {
          "base_uri": "https://localhost:8080/"
        },
        "id": "juXJitK9C3aC",
        "outputId": "9dd21e4c-9abf-443d-ec97-bb11e0ef3f88"
      },
      "execution_count": 190,
      "outputs": [
        {
          "output_type": "stream",
          "name": "stdout",
          "text": [
            "[1 2 3]\n",
            "[4 5 6]\n",
            "[[1 4]\n",
            " [2 5]\n",
            " [3 6]]\n"
          ]
        }
      ]
    },
    {
      "cell_type": "code",
      "source": [
        "#concatenate\n",
        "a=np.array([1,2,3])\n",
        "b=np.array([4,5,6])\n",
        "c=np.concatenate((a,b), axis=0)  #a,b배열을 행으로 합치기\n",
        "print(c)"
      ],
      "metadata": {
        "colab": {
          "base_uri": "https://localhost:8080/"
        },
        "id": "S6ZuyLJBDnKZ",
        "outputId": "1fdddb94-ffb4-4570-df6f-701e90f4bc85"
      },
      "execution_count": 193,
      "outputs": [
        {
          "output_type": "stream",
          "name": "stdout",
          "text": [
            "[1 2 3 4 5 6]\n"
          ]
        }
      ]
    },
    {
      "cell_type": "code",
      "source": [
        "a=np.array( [ [1,2],[3,4] ] )\n",
        "b=np.array( [ [5,6],[7,8] ] )\n",
        "print(a)\n",
        "print(b)\n",
        "c=np.concatenate((a,b))  #행으로 합치기\n",
        "print(c)"
      ],
      "metadata": {
        "colab": {
          "base_uri": "https://localhost:8080/"
        },
        "id": "Ra4JuG9LF8Yu",
        "outputId": "0fb245ee-5f21-48a9-f0b5-d87663425cdf"
      },
      "execution_count": 196,
      "outputs": [
        {
          "output_type": "stream",
          "name": "stdout",
          "text": [
            "[[1 2]\n",
            " [3 4]]\n",
            "[[5 6]\n",
            " [7 8]]\n",
            "[[1 2]\n",
            " [3 4]\n",
            " [5 6]\n",
            " [7 8]]\n"
          ]
        }
      ]
    },
    {
      "cell_type": "code",
      "source": [
        "a=np.array( [ [1,2],[3,4] ] )\n",
        "b=np.array( [ [5,6],[7,8] ] )\n",
        "print(a)\n",
        "print(b)\n",
        "c=np.concatenate((a,b), axis=1)  #열로 합치기\n",
        "print(c)"
      ],
      "metadata": {
        "colab": {
          "base_uri": "https://localhost:8080/"
        },
        "id": "ID0sy8m_E7TZ",
        "outputId": "7573deb7-f829-4cea-f5cc-a607966f5e6b"
      },
      "execution_count": 195,
      "outputs": [
        {
          "output_type": "stream",
          "name": "stdout",
          "text": [
            "[[1 2]\n",
            " [3 4]]\n",
            "[[5 6]\n",
            " [7 8]]\n",
            "[[1 2 5 6]\n",
            " [3 4 7 8]]\n"
          ]
        }
      ]
    },
    {
      "cell_type": "code",
      "source": [
        "a=np.array( [ [1,2],[3,4] ] )\n",
        "b=np.array( [ [5,6],[7,8] ] )\n",
        "print(a)\n",
        "print(b)\n",
        "c=np.r_[a,b] #열로 합치기\n",
        "print(c)\n",
        "d=np.c_[a,b] #행으로 합치기\n",
        "print(d)"
      ],
      "metadata": {
        "colab": {
          "base_uri": "https://localhost:8080/"
        },
        "id": "wUx9SWDAGP32",
        "outputId": "99f074b9-8f76-4711-ee41-4118dc29b4fa"
      },
      "execution_count": 198,
      "outputs": [
        {
          "output_type": "stream",
          "name": "stdout",
          "text": [
            "[[1 2]\n",
            " [3 4]]\n",
            "[[5 6]\n",
            " [7 8]]\n",
            "[[1 2]\n",
            " [3 4]\n",
            " [5 6]\n",
            " [7 8]]\n",
            "[[1 2 5 6]\n",
            " [3 4 7 8]]\n"
          ]
        }
      ]
    },
    {
      "cell_type": "code",
      "source": [
        "#hstack - 수평 vstack -수직\n",
        "a=np.array( [ [1,2],[3,4] ] )\n",
        "b=np.array( [ [5,6],[7,8] ] )\n",
        "c=np.hstack((a,b))   #행으로 합치기        # ()튜플 {} 딕셔너리 [] list\n",
        "print(c)\n",
        "d=np.vstack((a,b))   #열로 합치기\n",
        "print(d)"
      ],
      "metadata": {
        "colab": {
          "base_uri": "https://localhost:8080/"
        },
        "id": "v12dNQ66Gvqn",
        "outputId": "2d21d18d-2f3a-4cc0-9387-14f7b7887371"
      },
      "execution_count": 202,
      "outputs": [
        {
          "output_type": "stream",
          "name": "stdout",
          "text": [
            "[[1 2 5 6]\n",
            " [3 4 7 8]]\n",
            "[[1 2]\n",
            " [3 4]\n",
            " [5 6]\n",
            " [7 8]]\n"
          ]
        }
      ]
    },
    {
      "cell_type": "code",
      "source": [
        "a=np.zeros(5)\n",
        "print(a)\n",
        "a=np.ones(5)\n",
        "print(a)"
      ],
      "metadata": {
        "colab": {
          "base_uri": "https://localhost:8080/"
        },
        "id": "f8-2kbF1ILW-",
        "outputId": "9d424da0-a067-4096-bbc2-a6ab6f832e43"
      },
      "execution_count": 204,
      "outputs": [
        {
          "output_type": "stream",
          "name": "stdout",
          "text": [
            "[0. 0. 0. 0. 0.]\n",
            "[1. 1. 1. 1. 1.]\n"
          ]
        }
      ]
    },
    {
      "cell_type": "code",
      "source": [
        "a2=np.zeros((3,5))\n",
        "print(a2)"
      ],
      "metadata": {
        "colab": {
          "base_uri": "https://localhost:8080/"
        },
        "id": "c5Y2THEEIeDg",
        "outputId": "0cc397ad-5669-414a-b86a-a9841c0d97d7"
      },
      "execution_count": 205,
      "outputs": [
        {
          "output_type": "stream",
          "name": "stdout",
          "text": [
            "[[0. 0. 0. 0. 0.]\n",
            " [0. 0. 0. 0. 0.]\n",
            " [0. 0. 0. 0. 0.]]\n"
          ]
        }
      ]
    },
    {
      "cell_type": "code",
      "source": [
        "a3=np.ones((5,4))\n",
        "print(a3)\n",
        "print(a3.dtype)\n",
        "print(a3.ndim)"
      ],
      "metadata": {
        "colab": {
          "base_uri": "https://localhost:8080/"
        },
        "id": "OYEHGPdUItr1",
        "outputId": "8c01f398-4eaa-4bc0-b49f-586dd9ab14be"
      },
      "execution_count": 209,
      "outputs": [
        {
          "output_type": "stream",
          "name": "stdout",
          "text": [
            "[[1. 1. 1. 1.]\n",
            " [1. 1. 1. 1.]\n",
            " [1. 1. 1. 1.]\n",
            " [1. 1. 1. 1.]\n",
            " [1. 1. 1. 1.]]\n",
            "float64\n",
            "2\n"
          ]
        }
      ]
    },
    {
      "cell_type": "code",
      "source": [
        "a=np.full(5,3)\n",
        "print(a)"
      ],
      "metadata": {
        "colab": {
          "base_uri": "https://localhost:8080/"
        },
        "id": "gxEOiQRrJTIu",
        "outputId": "5092e7ae-96dd-4ba2-a698-88dd7081ad80"
      },
      "execution_count": 212,
      "outputs": [
        {
          "output_type": "stream",
          "name": "stdout",
          "text": [
            "[3 3 3 3 3]\n"
          ]
        }
      ]
    },
    {
      "cell_type": "code",
      "source": [
        "c= a2=np.full((3,4), 7 )\n",
        "print(c)"
      ],
      "metadata": {
        "colab": {
          "base_uri": "https://localhost:8080/"
        },
        "id": "huro7fdyJt2l",
        "outputId": "2570998e-1071-4906-e629-a46782d97047"
      },
      "execution_count": 214,
      "outputs": [
        {
          "output_type": "stream",
          "name": "stdout",
          "text": [
            "[[7 7 7 7]\n",
            " [7 7 7 7]\n",
            " [7 7 7 7]]\n"
          ]
        }
      ]
    },
    {
      "cell_type": "code",
      "source": [
        "#empty 항목을 초기화하지 않고 주어진 모양과 유형의 새배열을 반환\n",
        "a=np.empty(4)\n",
        "print(a)\n",
        "\n",
        "a=np.empty(4, dtype=np.int64)\n",
        "print(a)\n",
        "\n",
        "b=np.empty((2,4), dtype=np.int32 )\n",
        "print(b)"
      ],
      "metadata": {
        "colab": {
          "base_uri": "https://localhost:8080/"
        },
        "id": "YQHJBT41NTEt",
        "outputId": "f2cc3a17-dcbf-4b2e-dec1-df3d35c34dcc"
      },
      "execution_count": 219,
      "outputs": [
        {
          "output_type": "stream",
          "name": "stdout",
          "text": [
            "[2.5e-323 3.0e-323 3.5e-323 4.0e-323]\n",
            "[5 6 7 8]\n",
            "[[5 0 6 0]\n",
            " [7 0 8 0]]\n"
          ]
        }
      ]
    },
    {
      "cell_type": "markdown",
      "source": [
        "### Math Operation 수학함수 명령어들\n",
        "- Broadcasting -,+,x, /  \n",
        "- Matrix Multiplication\n",
        "- 제곱근, 제곱합\n",
        "- 합계\n",
        "- 누적합계\n",
        "- 평균"
      ],
      "metadata": {
        "id": "8yShB9rtOP1q"
      }
    },
    {
      "cell_type": "code",
      "source": [
        "#Broadcasting\n",
        "a= np.array( [ [1,2,3 ] , [ 4,5,6 ] ] )\n",
        "b= np.array( [ [2,2,2 ] , [ 3,3,3 ] ] )\n",
        "print(a+b)\n",
        "print(a-b)\n",
        "print(a/b)\n",
        "print(a**b)\n",
        "print(a%b)"
      ],
      "metadata": {
        "colab": {
          "base_uri": "https://localhost:8080/"
        },
        "id": "VSCoGPEaOx9O",
        "outputId": "0051d6b7-b1e3-496b-f4b8-5bb7beadd970"
      },
      "execution_count": 229,
      "outputs": [
        {
          "output_type": "stream",
          "name": "stdout",
          "text": [
            "[[20 20]\n",
            " [47 47]]\n",
            "[[20 20]\n",
            " [47 47]]\n"
          ]
        }
      ]
    },
    {
      "cell_type": "code",
      "source": [
        "#행렬 곱하기\n",
        "a= np.array( [ [1,2,3 ] , [ 4,5,6 ] ] )\n",
        "b= np.array( [ [2,2 ] , [ 3,3 ] , [4,4] ] )\n",
        "c= a@b\n",
        "print(c)\n",
        "d=np.matmul(a,b)\n",
        "print(d)\n"
      ],
      "metadata": {
        "colab": {
          "base_uri": "https://localhost:8080/"
        },
        "id": "X4j_fG7cPt0J",
        "outputId": "b8010a33-f112-4704-90ff-dad3105ec7bb"
      },
      "execution_count": 230,
      "outputs": [
        {
          "output_type": "stream",
          "name": "stdout",
          "text": [
            "[[20 20]\n",
            " [47 47]]\n",
            "[[20 20]\n",
            " [47 47]]\n"
          ]
        }
      ]
    },
    {
      "cell_type": "code",
      "source": [
        "#제곱\n",
        "a=np.array([1,2,3,4])\n",
        "a1=np.square(a)\n",
        "print(a1)\n"
      ],
      "metadata": {
        "colab": {
          "base_uri": "https://localhost:8080/"
        },
        "id": "AuyVHqcwRVJq",
        "outputId": "7ea8a2af-7c68-4e22-f46d-e62e6b550244"
      },
      "execution_count": 231,
      "outputs": [
        {
          "output_type": "stream",
          "name": "stdout",
          "text": [
            "[ 1  4  9 16]\n"
          ]
        }
      ]
    },
    {
      "cell_type": "code",
      "source": [
        "#제곱근\n",
        "a=np.array([1,2,3,4])\n",
        "print(np.sqrt(a))"
      ],
      "metadata": {
        "colab": {
          "base_uri": "https://localhost:8080/"
        },
        "id": "nrmapxRmRk8l",
        "outputId": "f6c26895-69df-406a-89ef-223b8ce60c97"
      },
      "execution_count": 232,
      "outputs": [
        {
          "output_type": "stream",
          "name": "stdout",
          "text": [
            "[1.         1.41421356 1.73205081 2.        ]\n"
          ]
        }
      ]
    },
    {
      "cell_type": "code",
      "source": [
        "#합계\n",
        "print(np.sum(a))"
      ],
      "metadata": {
        "colab": {
          "base_uri": "https://localhost:8080/"
        },
        "id": "DOWxZQ4BR4n3",
        "outputId": "ba68645f-ce44-4948-8bc0-4cec2d44b323"
      },
      "execution_count": 233,
      "outputs": [
        {
          "output_type": "stream",
          "name": "stdout",
          "text": [
            "10\n"
          ]
        }
      ]
    },
    {
      "cell_type": "code",
      "source": [
        "#평균\n",
        "print(np.average(a))\n",
        "#평균\n",
        "print(np.mean(a))\n",
        "#최대값\n",
        "print(np.max(a))\n",
        "#최소값\n",
        "print(np.min(a))"
      ],
      "metadata": {
        "colab": {
          "base_uri": "https://localhost:8080/"
        },
        "id": "b2IEOa3oSDn4",
        "outputId": "ed01c5f7-09aa-4d35-944a-c2c55f21ac2f"
      },
      "execution_count": 237,
      "outputs": [
        {
          "output_type": "stream",
          "name": "stdout",
          "text": [
            "2.5\n",
            "2.5\n",
            "4\n",
            "1\n"
          ]
        }
      ]
    },
    {
      "cell_type": "code",
      "source": [
        "#누적합\n",
        "a=np.array([1,2,3,4,5])\n",
        "print(np.cumsum(a))"
      ],
      "metadata": {
        "colab": {
          "base_uri": "https://localhost:8080/"
        },
        "id": "7XlPnkKaSdnD",
        "outputId": "a9e8450b-2c1e-4f76-a858-f983e13242f8"
      },
      "execution_count": 240,
      "outputs": [
        {
          "output_type": "stream",
          "name": "stdout",
          "text": [
            "[ 1  3  6 10 15]\n"
          ]
        }
      ]
    },
    {
      "cell_type": "code",
      "source": [
        "#누적곱\n",
        "a=np.arange(1,7)\n",
        "print(a)\n",
        "print(np.cumprod(a))"
      ],
      "metadata": {
        "colab": {
          "base_uri": "https://localhost:8080/"
        },
        "id": "SHHQ77GvSyc_",
        "outputId": "9753763c-315b-4b52-e4dd-ed615209722a"
      },
      "execution_count": 242,
      "outputs": [
        {
          "output_type": "stream",
          "name": "stdout",
          "text": [
            "[1 2 3 4 5 6]\n",
            "[  1   2   6  24 120 720]\n"
          ]
        }
      ]
    },
    {
      "cell_type": "markdown",
      "source": [
        "- pi\n",
        "- e\n",
        "- exp\n",
        "- sin\n",
        "- cos\n",
        "- tan\n",
        "- log\n"
      ],
      "metadata": {
        "id": "PyGW48f3TTdt"
      }
    },
    {
      "cell_type": "code",
      "source": [
        "from numpy import pi, e\n",
        "print(pi)\n",
        "print(e)\n"
      ],
      "metadata": {
        "colab": {
          "base_uri": "https://localhost:8080/"
        },
        "id": "f6JA2udkTjTg",
        "outputId": "8f62f8a6-15b6-48d2-fb8f-0d352a89e5f7"
      },
      "execution_count": 248,
      "outputs": [
        {
          "output_type": "stream",
          "name": "stdout",
          "text": [
            "3.141592653589793\n",
            "2.718281828459045\n"
          ]
        }
      ]
    },
    {
      "cell_type": "code",
      "source": [
        "import numpy as np\n",
        "np.exp(1)\n",
        "x= np.array([0,1,2])\n",
        "y=np.exp(x)\n",
        "print(y)"
      ],
      "metadata": {
        "colab": {
          "base_uri": "https://localhost:8080/"
        },
        "id": "xQdsMxV3UDO3",
        "outputId": "e0230345-1c4d-4aa3-c69f-b0a5852017be"
      },
      "execution_count": 251,
      "outputs": [
        {
          "output_type": "stream",
          "name": "stdout",
          "text": [
            "[1.         2.71828183 7.3890561 ]\n"
          ]
        }
      ]
    },
    {
      "cell_type": "code",
      "source": [
        "import matplotlib.pyplot as plt #그래프그리는 라이브러리"
      ],
      "metadata": {
        "id": "uVvrgqofUj_u"
      },
      "execution_count": 258,
      "outputs": []
    },
    {
      "cell_type": "code",
      "source": [
        "y=np.linspace(-2, 2, 100)\n",
        "y=np.exp(y)\n",
        "plt.plot( x, y )\n",
        "plt.show()"
      ],
      "metadata": {
        "id": "FDpQO9cjVkiz"
      },
      "execution_count": null,
      "outputs": []
    },
    {
      "cell_type": "markdown",
      "source": [
        "- random - 난수 rand\n"
      ],
      "metadata": {
        "id": "cX-K8kuIV33D"
      }
    },
    {
      "cell_type": "code",
      "source": [
        "np.random.rand()\n",
        "print(np.random.rand(3)) #3열의 랜덤수\n",
        "print(np.random.rand(3,5)) #3행5열 랜덤수"
      ],
      "metadata": {
        "colab": {
          "base_uri": "https://localhost:8080/"
        },
        "id": "Mp6eOsODV1_v",
        "outputId": "3322c8bc-cca8-4486-996c-e3fefc642bf2"
      },
      "execution_count": 265,
      "outputs": [
        {
          "output_type": "stream",
          "name": "stdout",
          "text": [
            "[0.51101918 0.90111713 0.40053893]\n",
            "[[0.75669652 0.946634   0.60442251 0.57455339 0.49599035]\n",
            " [0.97308186 0.23665406 0.24119489 0.42033486 0.19596605]\n",
            " [0.6877592  0.50895613 0.73657461 0.88556472 0.02896947]]\n"
          ]
        }
      ]
    },
    {
      "cell_type": "markdown",
      "source": [
        "- 파일로 저장하기 np.save('파일명.npy', 넘파이자료)\n",
        "- 파일로 불러오기 np.load('파일명')"
      ],
      "metadata": {
        "id": "h961c_MwWiaG"
      }
    },
    {
      "cell_type": "code",
      "source": [
        "#0~99까지 출력 10행 10열 배열\n",
        "a=np.arange(0,100).reshape(10,10)\n",
        "print(a)\n",
        "np.save('test.npy', a)"
      ],
      "metadata": {
        "colab": {
          "base_uri": "https://localhost:8080/"
        },
        "id": "Xm9S6eHzW4Sq",
        "outputId": "24f752d1-4f63-43ae-94e0-6517868e944e"
      },
      "execution_count": 267,
      "outputs": [
        {
          "output_type": "stream",
          "name": "stdout",
          "text": [
            "[[ 0  1  2  3  4  5  6  7  8  9]\n",
            " [10 11 12 13 14 15 16 17 18 19]\n",
            " [20 21 22 23 24 25 26 27 28 29]\n",
            " [30 31 32 33 34 35 36 37 38 39]\n",
            " [40 41 42 43 44 45 46 47 48 49]\n",
            " [50 51 52 53 54 55 56 57 58 59]\n",
            " [60 61 62 63 64 65 66 67 68 69]\n",
            " [70 71 72 73 74 75 76 77 78 79]\n",
            " [80 81 82 83 84 85 86 87 88 89]\n",
            " [90 91 92 93 94 95 96 97 98 99]]\n"
          ]
        }
      ]
    },
    {
      "cell_type": "code",
      "source": [
        "# 넘파이 불러오기\n",
        "k=np.load('test.npy')\n",
        "print(k)\n"
      ],
      "metadata": {
        "colab": {
          "base_uri": "https://localhost:8080/"
        },
        "id": "GQ7SiyWNXx9v",
        "outputId": "40264373-3e1f-447a-8932-868f81b9711c"
      },
      "execution_count": 269,
      "outputs": [
        {
          "output_type": "stream",
          "name": "stdout",
          "text": [
            "[[ 0  1  2  3  4  5  6  7  8  9]\n",
            " [10 11 12 13 14 15 16 17 18 19]\n",
            " [20 21 22 23 24 25 26 27 28 29]\n",
            " [30 31 32 33 34 35 36 37 38 39]\n",
            " [40 41 42 43 44 45 46 47 48 49]\n",
            " [50 51 52 53 54 55 56 57 58 59]\n",
            " [60 61 62 63 64 65 66 67 68 69]\n",
            " [70 71 72 73 74 75 76 77 78 79]\n",
            " [80 81 82 83 84 85 86 87 88 89]\n",
            " [90 91 92 93 94 95 96 97 98 99]]\n"
          ]
        }
      ]
    },
    {
      "cell_type": "markdown",
      "source": [
        "#우수 초콜릿 분석하기"
      ],
      "metadata": {
        "id": "JNH5iaN3a98d"
      }
    },
    {
      "cell_type": "code",
      "source": [
        "import numpy as np"
      ],
      "metadata": {
        "id": "b4udWE5bb5_b"
      },
      "execution_count": 270,
      "outputs": []
    },
    {
      "cell_type": "code",
      "source": [],
      "metadata": {
        "id": "yOhPZ1tMcASj"
      },
      "execution_count": null,
      "outputs": []
    },
    {
      "cell_type": "code",
      "source": [
        "from google.colab import files\n",
        "f = files.upload()\n"
      ],
      "metadata": {
        "colab": {
          "base_uri": "https://localhost:8080/",
          "height": 76
        },
        "id": "iTZNiRIjcbTz",
        "outputId": "6efcabc2-2400-41a6-b685-8d736fec8f4c"
      },
      "execution_count": 280,
      "outputs": [
        {
          "output_type": "display_data",
          "data": {
            "text/plain": [
              "<IPython.core.display.HTML object>"
            ],
            "text/html": [
              "\n",
              "     <input type=\"file\" id=\"files-4c019425-965f-41dd-b6e2-f8fec3fe237f\" name=\"files[]\" multiple disabled\n",
              "        style=\"border:none\" />\n",
              "     <output id=\"result-4c019425-965f-41dd-b6e2-f8fec3fe237f\">\n",
              "      Upload widget is only available when the cell has been executed in the\n",
              "      current browser session. Please rerun this cell to enable.\n",
              "      </output>\n",
              "      <script>// Copyright 2017 Google LLC\n",
              "//\n",
              "// Licensed under the Apache License, Version 2.0 (the \"License\");\n",
              "// you may not use this file except in compliance with the License.\n",
              "// You may obtain a copy of the License at\n",
              "//\n",
              "//      http://www.apache.org/licenses/LICENSE-2.0\n",
              "//\n",
              "// Unless required by applicable law or agreed to in writing, software\n",
              "// distributed under the License is distributed on an \"AS IS\" BASIS,\n",
              "// WITHOUT WARRANTIES OR CONDITIONS OF ANY KIND, either express or implied.\n",
              "// See the License for the specific language governing permissions and\n",
              "// limitations under the License.\n",
              "\n",
              "/**\n",
              " * @fileoverview Helpers for google.colab Python module.\n",
              " */\n",
              "(function(scope) {\n",
              "function span(text, styleAttributes = {}) {\n",
              "  const element = document.createElement('span');\n",
              "  element.textContent = text;\n",
              "  for (const key of Object.keys(styleAttributes)) {\n",
              "    element.style[key] = styleAttributes[key];\n",
              "  }\n",
              "  return element;\n",
              "}\n",
              "\n",
              "// Max number of bytes which will be uploaded at a time.\n",
              "const MAX_PAYLOAD_SIZE = 100 * 1024;\n",
              "\n",
              "function _uploadFiles(inputId, outputId) {\n",
              "  const steps = uploadFilesStep(inputId, outputId);\n",
              "  const outputElement = document.getElementById(outputId);\n",
              "  // Cache steps on the outputElement to make it available for the next call\n",
              "  // to uploadFilesContinue from Python.\n",
              "  outputElement.steps = steps;\n",
              "\n",
              "  return _uploadFilesContinue(outputId);\n",
              "}\n",
              "\n",
              "// This is roughly an async generator (not supported in the browser yet),\n",
              "// where there are multiple asynchronous steps and the Python side is going\n",
              "// to poll for completion of each step.\n",
              "// This uses a Promise to block the python side on completion of each step,\n",
              "// then passes the result of the previous step as the input to the next step.\n",
              "function _uploadFilesContinue(outputId) {\n",
              "  const outputElement = document.getElementById(outputId);\n",
              "  const steps = outputElement.steps;\n",
              "\n",
              "  const next = steps.next(outputElement.lastPromiseValue);\n",
              "  return Promise.resolve(next.value.promise).then((value) => {\n",
              "    // Cache the last promise value to make it available to the next\n",
              "    // step of the generator.\n",
              "    outputElement.lastPromiseValue = value;\n",
              "    return next.value.response;\n",
              "  });\n",
              "}\n",
              "\n",
              "/**\n",
              " * Generator function which is called between each async step of the upload\n",
              " * process.\n",
              " * @param {string} inputId Element ID of the input file picker element.\n",
              " * @param {string} outputId Element ID of the output display.\n",
              " * @return {!Iterable<!Object>} Iterable of next steps.\n",
              " */\n",
              "function* uploadFilesStep(inputId, outputId) {\n",
              "  const inputElement = document.getElementById(inputId);\n",
              "  inputElement.disabled = false;\n",
              "\n",
              "  const outputElement = document.getElementById(outputId);\n",
              "  outputElement.innerHTML = '';\n",
              "\n",
              "  const pickedPromise = new Promise((resolve) => {\n",
              "    inputElement.addEventListener('change', (e) => {\n",
              "      resolve(e.target.files);\n",
              "    });\n",
              "  });\n",
              "\n",
              "  const cancel = document.createElement('button');\n",
              "  inputElement.parentElement.appendChild(cancel);\n",
              "  cancel.textContent = 'Cancel upload';\n",
              "  const cancelPromise = new Promise((resolve) => {\n",
              "    cancel.onclick = () => {\n",
              "      resolve(null);\n",
              "    };\n",
              "  });\n",
              "\n",
              "  // Wait for the user to pick the files.\n",
              "  const files = yield {\n",
              "    promise: Promise.race([pickedPromise, cancelPromise]),\n",
              "    response: {\n",
              "      action: 'starting',\n",
              "    }\n",
              "  };\n",
              "\n",
              "  cancel.remove();\n",
              "\n",
              "  // Disable the input element since further picks are not allowed.\n",
              "  inputElement.disabled = true;\n",
              "\n",
              "  if (!files) {\n",
              "    return {\n",
              "      response: {\n",
              "        action: 'complete',\n",
              "      }\n",
              "    };\n",
              "  }\n",
              "\n",
              "  for (const file of files) {\n",
              "    const li = document.createElement('li');\n",
              "    li.append(span(file.name, {fontWeight: 'bold'}));\n",
              "    li.append(span(\n",
              "        `(${file.type || 'n/a'}) - ${file.size} bytes, ` +\n",
              "        `last modified: ${\n",
              "            file.lastModifiedDate ? file.lastModifiedDate.toLocaleDateString() :\n",
              "                                    'n/a'} - `));\n",
              "    const percent = span('0% done');\n",
              "    li.appendChild(percent);\n",
              "\n",
              "    outputElement.appendChild(li);\n",
              "\n",
              "    const fileDataPromise = new Promise((resolve) => {\n",
              "      const reader = new FileReader();\n",
              "      reader.onload = (e) => {\n",
              "        resolve(e.target.result);\n",
              "      };\n",
              "      reader.readAsArrayBuffer(file);\n",
              "    });\n",
              "    // Wait for the data to be ready.\n",
              "    let fileData = yield {\n",
              "      promise: fileDataPromise,\n",
              "      response: {\n",
              "        action: 'continue',\n",
              "      }\n",
              "    };\n",
              "\n",
              "    // Use a chunked sending to avoid message size limits. See b/62115660.\n",
              "    let position = 0;\n",
              "    do {\n",
              "      const length = Math.min(fileData.byteLength - position, MAX_PAYLOAD_SIZE);\n",
              "      const chunk = new Uint8Array(fileData, position, length);\n",
              "      position += length;\n",
              "\n",
              "      const base64 = btoa(String.fromCharCode.apply(null, chunk));\n",
              "      yield {\n",
              "        response: {\n",
              "          action: 'append',\n",
              "          file: file.name,\n",
              "          data: base64,\n",
              "        },\n",
              "      };\n",
              "\n",
              "      let percentDone = fileData.byteLength === 0 ?\n",
              "          100 :\n",
              "          Math.round((position / fileData.byteLength) * 100);\n",
              "      percent.textContent = `${percentDone}% done`;\n",
              "\n",
              "    } while (position < fileData.byteLength);\n",
              "  }\n",
              "\n",
              "  // All done.\n",
              "  yield {\n",
              "    response: {\n",
              "      action: 'complete',\n",
              "    }\n",
              "  };\n",
              "}\n",
              "\n",
              "scope.google = scope.google || {};\n",
              "scope.google.colab = scope.google.colab || {};\n",
              "scope.google.colab._files = {\n",
              "  _uploadFiles,\n",
              "  _uploadFilesContinue,\n",
              "};\n",
              "})(self);\n",
              "</script> "
            ]
          },
          "metadata": {}
        },
        {
          "output_type": "stream",
          "name": "stdout",
          "text": [
            "Saving chocolate_rating.csv to chocolate_rating.csv\n"
          ]
        }
      ]
    },
    {
      "cell_type": "code",
      "source": [
        "data=np.loadtxt('chocolate_rating.csv', delimiter=',')"
      ],
      "metadata": {
        "id": "7dqeyZfUd1Qv"
      },
      "execution_count": 282,
      "outputs": []
    },
    {
      "cell_type": "code",
      "source": [
        "print(data.ndim)\n",
        "print(data.shape)\n",
        "print(data.size)"
      ],
      "metadata": {
        "colab": {
          "base_uri": "https://localhost:8080/"
        },
        "id": "V3_Hb004eUd2",
        "outputId": "6c16619f-45fb-49c7-84bc-fb4cfaa9f859"
      },
      "execution_count": 285,
      "outputs": [
        {
          "output_type": "stream",
          "name": "stdout",
          "text": [
            "2\n",
            "(1795, 4)\n",
            "7180\n"
          ]
        }
      ]
    },
    {
      "cell_type": "code",
      "source": [
        "rating_mean=data[ : , 3 ].mean()\n",
        "print(rating_mean)"
      ],
      "metadata": {
        "colab": {
          "base_uri": "https://localhost:8080/"
        },
        "id": "kEmetXoqe1ZQ",
        "outputId": "5603508a-ea2c-4bee-aecd-8e4a572b40c9"
      },
      "execution_count": 287,
      "outputs": [
        {
          "output_type": "stream",
          "name": "stdout",
          "text": [
            "3.185933147632312\n"
          ]
        }
      ]
    },
    {
      "cell_type": "code",
      "source": [
        "high_level=data[ data[ :, 3]>=4]\n",
        "print(high_level[0:10])"
      ],
      "metadata": {
        "colab": {
          "base_uri": "https://localhost:8080/"
        },
        "id": "yBWbYZySfRxD",
        "outputId": "7e7f11ea-6745-4013-a369-aee87df86246"
      },
      "execution_count": 294,
      "outputs": [
        {
          "output_type": "stream",
          "name": "stdout",
          "text": [
            "[[1.000e+01 2.014e+03 7.000e-01 4.000e+00]\n",
            " [1.800e+01 2.013e+03 7.000e-01 4.000e+00]\n",
            " [2.100e+01 2.013e+03 6.300e-01 4.000e+00]\n",
            " [5.500e+01 2.011e+03 7.000e-01 4.000e+00]\n",
            " [5.700e+01 2.010e+03 7.000e-01 4.000e+00]\n",
            " [7.700e+01 2.007e+03 7.000e-01 4.000e+00]\n",
            " [7.800e+01 2.007e+03 7.500e-01 4.000e+00]\n",
            " [7.900e+01 2.007e+03 7.000e-01 5.000e+00]\n",
            " [8.400e+01 2.007e+03 7.000e-01 4.000e+00]\n",
            " [8.700e+01 2.006e+03 7.000e-01 5.000e+00]]\n"
          ]
        }
      ]
    },
    {
      "cell_type": "code",
      "source": [
        "print(high_level[ :, 0 ])\n",
        "high_id = high_level[ :, 0 ].astype(np.int64)\n",
        "print(high_id)\n",
        "print(high_id.size)\n"
      ],
      "metadata": {
        "colab": {
          "base_uri": "https://localhost:8080/"
        },
        "id": "qe90lBpKgivp",
        "outputId": "538ade58-7ff3-43c4-bdc3-fe10f65c107b"
      },
      "execution_count": 299,
      "outputs": [
        {
          "output_type": "stream",
          "name": "stdout",
          "text": [
            "[  10.   18.   21.   55.   57.   77.   78.   79.   84.   87.   88.   93.\n",
            "  108.  109.  118.  124.  153.  180.  181.  187.  223.  232.  233.  240.\n",
            "  243.  244.  245.  248.  257.  312.  316.  317.  358.  437.  503.  567.\n",
            "  573.  574.  582.  601.  650.  687.  690.  691.  701.  720.  730.  800.\n",
            "  828.  862.  864.  865.  866.  883.  919.  993. 1088. 1089. 1118. 1119.\n",
            " 1120. 1204. 1241. 1245. 1247. 1274. 1277. 1278. 1289. 1291. 1293. 1295.\n",
            " 1323. 1331. 1336. 1378. 1394. 1426. 1428. 1433. 1479. 1488. 1513. 1516.\n",
            " 1529. 1530. 1531. 1533. 1536. 1537. 1544. 1545. 1664. 1683. 1686. 1688.\n",
            " 1694. 1700. 1740. 1757.]\n",
            "[  10   18   21   55   57   77   78   79   84   87   88   93  108  109\n",
            "  118  124  153  180  181  187  223  232  233  240  243  244  245  248\n",
            "  257  312  316  317  358  437  503  567  573  574  582  601  650  687\n",
            "  690  691  701  720  730  800  828  862  864  865  866  883  919  993\n",
            " 1088 1089 1118 1119 1120 1204 1241 1245 1247 1274 1277 1278 1289 1291\n",
            " 1293 1295 1323 1331 1336 1378 1394 1426 1428 1433 1479 1488 1513 1516\n",
            " 1529 1530 1531 1533 1536 1537 1544 1545 1664 1683 1686 1688 1694 1700\n",
            " 1740 1757]\n",
            "100\n"
          ]
        }
      ]
    },
    {
      "cell_type": "code",
      "source": [
        "high_kakao = high_level[:,2]\n",
        "unique_values, value_counts = np.unique(high_kakao, return_counts=True)\n",
        "print('카카오 함유량:', unique_values)\n",
        "print('함유량별 빈도수:', value_counts)"
      ],
      "metadata": {
        "colab": {
          "base_uri": "https://localhost:8080/"
        },
        "id": "2UVfYAHdhqFd",
        "outputId": "1548ae01-69cb-4ca0-bcb4-8470998400b5"
      },
      "execution_count": 305,
      "outputs": [
        {
          "output_type": "stream",
          "name": "stdout",
          "text": [
            "카카오 함유량: [0.6  0.63 0.64 0.65 0.66 0.67 0.68 0.69 0.7  0.71 0.72 0.73 0.74 0.75\n",
            " 0.78 0.8  0.88]\n",
            "함유량별 빈도수: [ 1  3  4  2  1  3  2  2 45  1 11  1  4 17  1  1  1]\n"
          ]
        }
      ]
    },
    {
      "cell_type": "code",
      "source": [
        "max_index = np.argmax(value_counts)\n",
        "print(unique_values[max_index])\n",
        "print('우수 초콜릿', high_id.size, '가지 중', value_counts[max_index],\\\n",
        " '가지의 카카오 함유량이', unique_values[max_index] * 100, '%입니다.')"
      ],
      "metadata": {
        "colab": {
          "base_uri": "https://localhost:8080/"
        },
        "id": "hTe6Cs3FkH-f",
        "outputId": "224213ea-6d03-42c3-b8d6-79dded4fc147"
      },
      "execution_count": 306,
      "outputs": [
        {
          "output_type": "stream",
          "name": "stdout",
          "text": [
            "0.7\n",
            "우수 초콜릿 100 가지 중 45 가지의 카카오 함유량이 70.0 %입니다.\n"
          ]
        }
      ]
    }
  ]
}